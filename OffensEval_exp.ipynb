{
 "cells": [
  {
   "cell_type": "markdown",
   "metadata": {},
   "source": [
    "### Imports"
   ]
  },
  {
   "cell_type": "code",
   "execution_count": 1,
   "metadata": {},
   "outputs": [],
   "source": [
    "#Loading packages\n",
    "import pandas as pd\n",
    "import torch\n",
    "from torch.autograd import Variable\n",
    "import numpy as np\n",
    "import torch.nn as nn\n",
    "import torch.optim as optim\n",
    "import torch.nn.functional as F\n",
    "from torch.utils.data import Subset, TensorDataset, DataLoader, WeightedRandomSampler\n",
    "from tqdm import tqdm \n",
    "import codecs\n",
    "import random\n",
    "import re\n",
    "from sklearn.model_selection import train_test_split\n",
    "from sklearn.metrics import precision_recall_fscore_support\n",
    "import matplotlib.pyplot as plt\n",
    "from imblearn.over_sampling import RandomOverSampler\n",
    "%matplotlib inline"
   ]
  },
  {
   "cell_type": "markdown",
   "metadata": {},
   "source": [
    "##### Ensuring reproducibility"
   ]
  },
  {
   "cell_type": "code",
   "execution_count": 2,
   "metadata": {},
   "outputs": [],
   "source": [
    "#we fix the seeds to get consistent results\n",
    "SEED = 42\n",
    "torch.manual_seed(SEED)\n",
    "np.random.seed(SEED)\n",
    "random.seed(SEED)\n",
    "\n",
    "#Fix GPU seeds\n",
    "torch.cuda.manual_seed(SEED)\n",
    "torch.backends.cudnn.deterministic = True"
   ]
  },
  {
   "cell_type": "markdown",
   "metadata": {},
   "source": [
    "##### Loading the training data\n"
   ]
  },
  {
   "cell_type": "code",
   "execution_count": 3,
   "metadata": {},
   "outputs": [
    {
     "data": {
      "text/html": [
       "<div>\n",
       "<style scoped>\n",
       "    .dataframe tbody tr th:only-of-type {\n",
       "        vertical-align: middle;\n",
       "    }\n",
       "\n",
       "    .dataframe tbody tr th {\n",
       "        vertical-align: top;\n",
       "    }\n",
       "\n",
       "    .dataframe thead th {\n",
       "        text-align: right;\n",
       "    }\n",
       "</style>\n",
       "<table border=\"1\" class=\"dataframe\">\n",
       "  <thead>\n",
       "    <tr style=\"text-align: right;\">\n",
       "      <th></th>\n",
       "      <th>id</th>\n",
       "      <th>tweet</th>\n",
       "      <th>subtask_a</th>\n",
       "      <th>subtask_b</th>\n",
       "      <th>subtask_c</th>\n",
       "    </tr>\n",
       "  </thead>\n",
       "  <tbody>\n",
       "    <tr>\n",
       "      <th>0</th>\n",
       "      <td>86426</td>\n",
       "      <td>@USER She should ask a few native Americans wh...</td>\n",
       "      <td>OFF</td>\n",
       "      <td>UNT</td>\n",
       "      <td>NaN</td>\n",
       "    </tr>\n",
       "    <tr>\n",
       "      <th>1</th>\n",
       "      <td>90194</td>\n",
       "      <td>@USER @USER Go home you’re drunk!!! @USER #MAG...</td>\n",
       "      <td>OFF</td>\n",
       "      <td>TIN</td>\n",
       "      <td>IND</td>\n",
       "    </tr>\n",
       "    <tr>\n",
       "      <th>2</th>\n",
       "      <td>16820</td>\n",
       "      <td>Amazon is investigating Chinese employees who ...</td>\n",
       "      <td>NOT</td>\n",
       "      <td>NaN</td>\n",
       "      <td>NaN</td>\n",
       "    </tr>\n",
       "    <tr>\n",
       "      <th>3</th>\n",
       "      <td>62688</td>\n",
       "      <td>@USER Someone should'veTaken\" this piece of sh...</td>\n",
       "      <td>OFF</td>\n",
       "      <td>UNT</td>\n",
       "      <td>NaN</td>\n",
       "    </tr>\n",
       "    <tr>\n",
       "      <th>4</th>\n",
       "      <td>43605</td>\n",
       "      <td>@USER @USER Obama wanted liberals &amp;amp; illega...</td>\n",
       "      <td>NOT</td>\n",
       "      <td>NaN</td>\n",
       "      <td>NaN</td>\n",
       "    </tr>\n",
       "  </tbody>\n",
       "</table>\n",
       "</div>"
      ],
      "text/plain": [
       "      id                                              tweet subtask_a  \\\n",
       "0  86426  @USER She should ask a few native Americans wh...       OFF   \n",
       "1  90194  @USER @USER Go home you’re drunk!!! @USER #MAG...       OFF   \n",
       "2  16820  Amazon is investigating Chinese employees who ...       NOT   \n",
       "3  62688  @USER Someone should'veTaken\" this piece of sh...       OFF   \n",
       "4  43605  @USER @USER Obama wanted liberals &amp; illega...       NOT   \n",
       "\n",
       "  subtask_b subtask_c  \n",
       "0       UNT       NaN  \n",
       "1       TIN       IND  \n",
       "2       NaN       NaN  \n",
       "3       UNT       NaN  \n",
       "4       NaN       NaN  "
      ]
     },
     "execution_count": 3,
     "metadata": {},
     "output_type": "execute_result"
    }
   ],
   "source": [
    "train_data = pd.read_csv('dataset/offenseval-training-v1.tsv', sep=\"\\t\", header=0)\n",
    "train_data.head()"
   ]
  },
  {
   "cell_type": "markdown",
   "metadata": {},
   "source": [
    "#### Data exploration"
   ]
  },
  {
   "cell_type": "code",
   "execution_count": 4,
   "metadata": {},
   "outputs": [
    {
     "name": "stdout",
     "output_type": "stream",
     "text": [
      "X_a shape:  (13240,)  y_a shape:  (13240,)\n",
      "X_b shape:  (4400,)  y_b shape:  (4400,)\n",
      "X_c shape:  (3876,)  y_c shape:  (3876,)\n"
     ]
    }
   ],
   "source": [
    "# Task A\n",
    "\n",
    "# Extracting the training and the test set\n",
    "X = train_data['tweet'].values\n",
    "y_a = train_data['subtask_a'].values\n",
    "y_b = train_data['subtask_b'].values\n",
    "y_c = train_data['subtask_c'].values\n",
    "\n",
    "# change labels for task A to binary labels. \n",
    "# 1 if post is offensive. 0 otherwise\n",
    "y_a[y_a == 'OFF'] = 1\n",
    "y_a[y_a == 'NOT'] = 0\n",
    "y_a = y_a.astype(int)\n",
    "\n",
    "X_a = X\n",
    "\n",
    "# Extracting all examples which are relevant to task B\n",
    "index_b_unt = y_b == 'UNT' \n",
    "index_b_tin = y_b == 'TIN' \n",
    "\n",
    "index_b = index_b_unt + index_b_tin\n",
    "# The data\n",
    "y_b = y_b[index_b]\n",
    "X_b = X[index_b]\n",
    "\n",
    "# Making the labels binary. 1 if post is targeted\n",
    "# 0 if post is not targeted\n",
    "y_b[y_b == 'TIN' ] = 1\n",
    "y_b[y_b == 'UNT' ] = 0\n",
    "y_b = y_b.astype(int)\n",
    "\n",
    "# Creating the data for task C\n",
    "index_c_grp = y_c == 'GRP'\n",
    "index_c_ind = y_c == 'IND'\n",
    "index_c_oth = y_c == 'OTH'\n",
    "\n",
    "index_c = index_c_grp + index_c_ind + index_c_oth\n",
    "\n",
    "y_c = y_c[index_c]\n",
    "X_c = X[index_c]\n",
    "\n",
    "# Making the labels binary. 0 if post is targeted\n",
    "# at group, 1 if post is targeted at an idividual\n",
    "# 2 if post is targeted at 'other'\n",
    "\n",
    "y_c[y_c == 'GRP' ] = 0\n",
    "y_c[y_c == 'IND' ] = 1\n",
    "y_c[y_c == 'OTH' ] = 2\n",
    "y_c = y_c.astype(int)\n",
    "\n",
    "print('X_a shape: ', X_a.shape, ' y_a shape: ', y_a.shape)\n",
    "print('X_b shape: ', X_b.shape, ' y_b shape: ', y_b.shape)\n",
    "print('X_c shape: ', X_c.shape, ' y_c shape: ', y_c.shape)"
   ]
  },
  {
   "cell_type": "code",
   "execution_count": 5,
   "metadata": {},
   "outputs": [],
   "source": [
    "# Creating Train and validation sets\n",
    "val_size = 0.2\n",
    "\n",
    "# Splitting the datasets for each task\n",
    "X_a_train, X_a_val, y_a_train, y_a_val = train_test_split(X_a, y_a, test_size=val_size, random_state=SEED, shuffle=True)\n",
    "X_b_train, X_b_val, y_b_train, y_b_val = train_test_split(X_b, y_b, test_size=val_size, random_state=SEED, shuffle=True)\n",
    "X_c_train, X_c_val, y_c_train, y_c_val = train_test_split(X_c, y_c, test_size=val_size, random_state=SEED, shuffle=True)\n"
   ]
  },
  {
   "cell_type": "code",
   "execution_count": 6,
   "metadata": {},
   "outputs": [
    {
     "name": "stdout",
     "output_type": "stream",
     "text": [
      "X_a_test shape:  (860,)\n",
      "X_b_test shape:  (240,)\n",
      "X_c_test shape:  (213,)\n"
     ]
    }
   ],
   "source": [
    "# Loading the test sets\n",
    "X_a_test = pd.read_csv('dataset/testset-taska.tsv', sep=\"\\t\", header=0)['tweet'].values\n",
    "X_b_test = pd.read_csv('dataset/testset-taskb.tsv', sep=\"\\t\", header=0)['tweet'].values\n",
    "X_c_test = pd.read_csv('dataset/test_set_taskc.tsv', sep=\"\\t\", header=0)['tweet'].values\n",
    "\n",
    "print('X_a_test shape: ', X_a_test.shape)\n",
    "print('X_b_test shape: ', X_b_test.shape)\n",
    "print('X_c_test shape: ', X_c_test.shape)"
   ]
  },
  {
   "cell_type": "code",
   "execution_count": 7,
   "metadata": {},
   "outputs": [
    {
     "name": "stdout",
     "output_type": "stream",
     "text": [
      "\n",
      "Task A:  0 :  7107   1 :  3485\n",
      "Task B:  0 :  412   1 :  3108\n",
      "Task C:  0 :  872   1 :  1906   2 :  322\n"
     ]
    }
   ],
   "source": [
    "# Checking for any class imbalance\n",
    "unique_a, counts_a = np.unique(y_a_train, return_counts =True)\n",
    "unique_b, counts_b = np.unique(y_b_train, return_counts =True)\n",
    "unique_c, counts_c = np.unique(y_c_train, return_counts =True)\n",
    "\n",
    "print('\\nTask A: ', unique_a[0],': ', counts_a[0], ' ', unique_a[1], ': ', counts_a[1])\n",
    "print('Task B: ', unique_b[0],': ', counts_b[0], ' ', unique_b[1], ': ', counts_b[1])\n",
    "print('Task C: ', unique_c[0],': ', counts_c[0], ' ',\n",
    "      unique_c[1], ': ', counts_c[1],' ', unique_c[2], ': ', counts_c[2], )"
   ]
  },
  {
   "cell_type": "markdown",
   "metadata": {},
   "source": [
    "Note: task A. Labels: 0 = not offensive, 1 = offensive\n",
    "      task B. Labels: 0 = not targeted offense, 1 = targeted offense\n",
    "      task C. Labels: 0 = targeted at group, 1 = targeted at individual, 2 = targeted at 'other'\n",
    "        \n",
    "        \n",
    "As shown above, for all three tasks the classes are very unbalanced. Oversample minority classes."
   ]
  },
  {
   "cell_type": "code",
   "execution_count": 8,
   "metadata": {},
   "outputs": [
    {
     "name": "stdout",
     "output_type": "stream",
     "text": [
      "\n",
      "Task A:  0 :  7107   1 :  7107\n",
      "Task B:  0 :  3108   1 :  3108\n",
      "Task C:  0 :  1906   1 :  1906   2 :  1906\n"
     ]
    }
   ],
   "source": [
    "# Over sampling to make to adress the class imbalance\n",
    "rus = RandomOverSampler(random_state=0)\n",
    "\n",
    "# Over sampling each training set\n",
    "X_a_train, y_a_train = rus.fit_resample(X_a_train.reshape(-1, 1), y_a_train)\n",
    "X_b_train, y_b_train = rus.fit_resample(X_b_train.reshape(-1, 1), y_b_train)\n",
    "X_c_train, y_c_train = rus.fit_resample(X_c_train.reshape(-1, 1), y_c_train)\n",
    "\n",
    "X_a_train = np.squeeze(X_a_train, 1)\n",
    "X_b_train = np.squeeze(X_b_train, 1)\n",
    "X_c_train = np.squeeze(X_c_train, 1)\n",
    "\n",
    "# recounting number of examples from each class\n",
    "unique_a, counts_a = np.unique(y_a_train, return_counts =True)\n",
    "unique_b, counts_b = np.unique(y_b_train, return_counts =True)\n",
    "unique_c, counts_c = np.unique(y_c_train, return_counts =True)\n",
    "\n",
    "print('\\nTask A: ', unique_a[0],': ', counts_a[0], ' ', unique_a[1], ': ', counts_a[1])\n",
    "print('Task B: ', unique_b[0],': ', counts_b[0], ' ', unique_b[1], ': ', counts_b[1])\n",
    "print('Task C: ', unique_c[0],': ', counts_c[0], ' ',\n",
    "      unique_c[1], ': ', counts_c[1],' ', unique_c[2], ': ', counts_c[2], )"
   ]
  },
  {
   "cell_type": "code",
   "execution_count": 10,
   "metadata": {},
   "outputs": [],
   "source": [
    "# Function to tokenize the sentense\n",
    "\n",
    "def get_tokenize_sentence(sentence):\n",
    "    \n",
    "    # list to store a sentense\n",
    "    tokenized_sentence = []\n",
    "    \n",
    "    # removing and ’\n",
    "    sentence = sentence.replace(\"’\", '')\n",
    "    \n",
    "    # Keeping # and !\n",
    "    for token in re.findall(r\"[\\w']+|[# !]\", sentence):\n",
    "        \n",
    "        # removing spaces from removed punctuation\n",
    "        token = token.replace(' ', '')\n",
    "        \n",
    "        # only appending tokes which are not empty lists\n",
    "        if len(token) > 0:\n",
    "            tokenized_sentence.append(token.lower())\n",
    "            \n",
    "    return tokenized_sentence"
   ]
  },
  {
   "cell_type": "code",
   "execution_count": 11,
   "metadata": {},
   "outputs": [],
   "source": [
    "# Function to tokenize a corpus\n",
    "\n",
    "def get_tokenized_corpus(corpus):\n",
    "    \n",
    "    # list to store the corpus\n",
    "    tokenized_corpus = []\n",
    "    \n",
    "    for sentence in corpus:\n",
    "        tokenized_sentence = get_tokenize_sentence(sentence)\n",
    "        tokenized_corpus.append(tokenized_sentence)\n",
    "     \n",
    "    return tokenized_corpus "
   ]
  },
  {
   "cell_type": "code",
   "execution_count": 12,
   "metadata": {},
   "outputs": [],
   "source": [
    "# Function to create a word to index dictionary\n",
    "def get_word2idx(corpus):\n",
    "    \n",
    "    # get tokenized corpus\n",
    "    tokenized_corpus = get_tokenized_corpus(corpus)\n",
    "    \n",
    "    # list to store vocabulary\n",
    "    vocabulary = []\n",
    "    \n",
    "    for sentence in tokenized_corpus:\n",
    "        \n",
    "        for token in sentence:\n",
    "            \n",
    "            if token not in vocabulary:\n",
    "                \n",
    "                vocabulary.append(token)\n",
    "    \n",
    "    # creating a word to index dictionary\n",
    "    word2idx = {w: idx+1 for (idx, w) in enumerate(vocabulary)}\n",
    "    \n",
    "    # we reserve the 0 index for the placeholder token\n",
    "    word2idx['<pad>'] = 0\n",
    " \n",
    "    return word2idx"
   ]
  },
  {
   "cell_type": "code",
   "execution_count": 13,
   "metadata": {},
   "outputs": [],
   "source": [
    "# Function to create tensor inputs and lebels from a tokenized corpus\n",
    "\n",
    "def get_model_inputs(tokenized_corpus, word2idx, labels, max_len):\n",
    "\n",
    "    # we index our sentences\n",
    "    vectorized_sents = [[word2idx[tok] for tok in sent if tok in word2idx] for sent in tokenized_corpus]\n",
    " \n",
    "    # we create a tensor of a fixed size filled with zeroes for padding\n",
    "    sent_tensor = Variable(torch.zeros((len(vectorized_sents), max_len))).long()  \n",
    "    \n",
    "    sent_lengths = [len(sent) for sent in vectorized_sents]\n",
    "  \n",
    "    # we fill it with our vectorized sentences \n",
    "    for idx, (sent, sentlen) in enumerate(zip(vectorized_sents, sent_lengths)):\n",
    "        \n",
    "        sent_tensor[idx, :sentlen] = torch.LongTensor(sent)\n",
    "    \n",
    "    label_tensor = torch.FloatTensor(labels)\n",
    "  \n",
    "    return sent_tensor, label_tensor"
   ]
  },
  {
   "cell_type": "code",
   "execution_count": 14,
   "metadata": {},
   "outputs": [],
   "source": [
    "# Function to obtain the maximum tweet length\n",
    "\n",
    "def max_sen_len(corpus):\n",
    "    \n",
    "    # get tokenized corpus\n",
    "    tokenized_corpus = get_tokenized_corpus(corpus)\n",
    "    \n",
    "    # get length of each tweet\n",
    "    sent_lengths = [len(sent) for sent in tokenized_corpus]\n",
    "    \n",
    "    # find maximum length\n",
    "    max_len = np.max(np.array(sent_lengths))   \n",
    "    \n",
    "    return max_len"
   ]
  },
  {
   "cell_type": "code",
   "execution_count": 15,
   "metadata": {},
   "outputs": [
    {
     "name": "stdout",
     "output_type": "stream",
     "text": [
      "Longest tweet in corpus has length  105\n"
     ]
    }
   ],
   "source": [
    "# Creating the word2idx dictionary and measuring the maximum sentence length\n",
    "max_len = max_sen_len(X)\n",
    "word2idx = get_word2idx(X)\n",
    "\n",
    "print('Longest tweet in corpus has length ', max_len)"
   ]
  },
  {
   "cell_type": "code",
   "execution_count": 16,
   "metadata": {},
   "outputs": [],
   "source": [
    "# Function to get training and validation data loaders\n",
    "\n",
    "BATCH_SIZE = 64\n",
    "\n",
    "def getDataLoader(corpus, labels):\n",
    "    \n",
    "    # note max_len and word2idx must be predefined\n",
    "    \n",
    "    # get tokenized corpus\n",
    "    tokenized_corpus = get_tokenized_corpus(corpus)\n",
    "    \n",
    "    # get tensor inputs\n",
    "    tweets_tensor, labels_tensor = get_model_inputs(tokenized_corpus, word2idx, labels, max_len)\n",
    "    \n",
    "    # create a dataloader\n",
    "    dataset = TensorDataset(tweets_tensor, labels_tensor)\n",
    "    data_loader = DataLoader(dataset, batch_size = BATCH_SIZE, shuffle=True)\n",
    "\n",
    "    return data_loader"
   ]
  },
  {
   "cell_type": "code",
   "execution_count": 17,
   "metadata": {},
   "outputs": [],
   "source": [
    "# Function to get a data loader without labels\n",
    " \n",
    "def get_test_loader(corpus):\n",
    "    \n",
    "    # make fake labels to use get_model_inputs function\n",
    "    labels = np.zeros(len(corpus))\n",
    "    \n",
    "    # tokenize the corpus\n",
    "    tokenized_corpus = get_tokenized_corpus(corpus)\n",
    "    \n",
    "    # get tensor of inputs\n",
    "    tweets_tensor, _  = get_model_inputs(tokenized_corpus, word2idx, labels, max_len)\n",
    "    \n",
    "    # create a data loader\n",
    "    dataset = TensorDataset(tweets_tensor)\n",
    "    data_loader = DataLoader(dataset, batch_size = BATCH_SIZE, shuffle=True)\n",
    "\n",
    "    return data_loader"
   ]
  },
  {
   "cell_type": "code",
   "execution_count": 18,
   "metadata": {},
   "outputs": [],
   "source": [
    "# Data loader for training, validation and test\n",
    "train_loader_a = getDataLoader(X_a_train, y_a_train)\n",
    "val_loader_a   = getDataLoader(X_a_val, y_a_val)\n",
    "test_loader_a  = get_test_loader(X_a_test)\n",
    "\n",
    "train_loader_b = getDataLoader(X_b_train, y_b_train)\n",
    "val_loader_b   = getDataLoader(X_b_val, y_b_val)\n",
    "test_loader_b  = get_test_loader(X_b_test)\n",
    "\n",
    "train_loader_c = getDataLoader(X_c_train, y_c_train)\n",
    "val_loader_c   = getDataLoader(X_c_val, y_c_val)\n",
    "test_loader_c  = get_test_loader(X_c_test)"
   ]
  },
  {
   "cell_type": "markdown",
   "metadata": {},
   "source": [
    "# Helper functions"
   ]
  },
  {
   "cell_type": "code",
   "execution_count": 19,
   "metadata": {},
   "outputs": [],
   "source": [
    "# Function to get the f1 score\n",
    "\n",
    "def f_measure(output, gold):\n",
    "    \n",
    "    output = output >= 0.5\n",
    "    output = output.cpu().numpy()\n",
    "    gold = gold.cpu().numpy()\n",
    "\n",
    "    recall, precision, fscore, _ = precision_recall_fscore_support(output, gold, average='weighted')\n",
    "    \n",
    "    return recall, precision, fscore"
   ]
  },
  {
   "cell_type": "code",
   "execution_count": 23,
   "metadata": {},
   "outputs": [],
   "source": [
    "# Function to get the recall, precision and f score for multiclass problems\n",
    "\n",
    "def f_measure_c(output, gold):\n",
    "\n",
    "    output = torch.argmax(output, dim = 1)\n",
    "    output = output.cpu().numpy()\n",
    "    gold = gold.cpu().numpy()\n",
    "\n",
    "    recall, precision, fscore, _ = precision_recall_fscore_support(output, gold, labels=[0, 1, 2])\n",
    "    recall_m, precision_m, fscore_m, _ = precision_recall_fscore_support(output, gold, labels=[0, 1, 2], average='macro')\n",
    "    \n",
    "    return np.append(recall, recall_m), np.append(precision, precision_m), np.append(fscore, fscore_m)"
   ]
  },
  {
   "cell_type": "code",
   "execution_count": 20,
   "metadata": {},
   "outputs": [],
   "source": [
    "# Function to get the accuracy\n",
    "\n",
    "def accuracy(output, target):\n",
    "    \n",
    "    correct = torch.sum((output >= 0.5).float() == target.float(), dtype = torch.float)\n",
    "    acc = correct.item() / len(target)\n",
    " \n",
    "    return acc"
   ]
  },
  {
   "cell_type": "code",
   "execution_count": 21,
   "metadata": {},
   "outputs": [],
   "source": [
    "# Function to get the accuracy for multiclass problems\n",
    "\n",
    "def get_accuracy_softmax(output, target):\n",
    "    \n",
    "    pred = torch.argmax(output, dim = 1)\n",
    "    acc = (pred == target).sum().item() / len(pred)\n",
    " \n",
    "    return acc"
   ]
  },
  {
   "cell_type": "code",
   "execution_count": 22,
   "metadata": {},
   "outputs": [],
   "source": [
    "# Function to initialize the weights of a network\n",
    "\n",
    "def init_weights(m):\n",
    "    if type(m) == nn.Linear:\n",
    "        torch.nn.init.kaiming_normal_(m.weight)\n",
    "        m.bias.data.fill_(0)\n",
    "    if type(m) == nn.Conv2d:\n",
    "        torch.nn.init.kaiming_normal_(m.weight)\n",
    "        m.bias.data.fill_(0)"
   ]
  },
  {
   "cell_type": "markdown",
   "metadata": {},
   "source": [
    "# Creating and training the model"
   ]
  },
  {
   "cell_type": "code",
   "execution_count": 24,
   "metadata": {},
   "outputs": [],
   "source": [
    "# Function to trian a network\n",
    "\n",
    "def train_model(model, train_loader, valid_loader,activation = 'sigmoid' ,alpha = 0., epochs = 20):  \n",
    "    \n",
    "    # Lists to store different quantities of interest\n",
    "    training_loss = []\n",
    "    training_acc = []\n",
    "    \n",
    "    validation_loss = []\n",
    "    validation_acc = []\n",
    "    \n",
    "    validation_recall = []\n",
    "    validation_precision = []\n",
    "    validation_f1 = []\n",
    "    \n",
    "    for epoch in range(1, epochs+1):\n",
    "        \n",
    "        # during each epoch setting quantities to 0\n",
    "        recall = 0\n",
    "        precision = 0\n",
    "        fscore = 0\n",
    "\n",
    "        epoch_loss = 0\n",
    "        epoch_acc = 0\n",
    "        \n",
    "        valid_loss = 0\n",
    "        valid_acc = 0\n",
    "        \n",
    "        model.train()\n",
    "       \n",
    "        #iterate over batches\n",
    "        for feature, target in train_loader:\n",
    "            \n",
    "            #place on the GPU\n",
    "            feature = feature.to(device)\n",
    "            \n",
    "            # Convert target to tensor if multiclass problem\n",
    "            if activation == 'softmax':\n",
    "                target = target.type(torch.LongTensor)\n",
    "                \n",
    "            # place target on gpu\n",
    "            target = target.to(device)\n",
    "            \n",
    "            # set gradient of optimizer to 0\n",
    "            optimizer.zero_grad()\n",
    "            \n",
    "            # get predictions\n",
    "            predictions = model(feature)\n",
    "            \n",
    "            # apply output activation function\n",
    "            if activation == 'sigmoid':\n",
    "                predictions = torch.sigmoid(predictions)\n",
    "            elif activation == 'softmax':\n",
    "                predictions = F.softmax(predictions, dim = 1)\n",
    "            \n",
    "            # calculate the loss\n",
    "            loss = loss_fn(predictions, target) + alpha * model.l2_weight_penalty()\n",
    "            \n",
    "            # getting the accuracy\n",
    "            if activation == 'sigmoid':\n",
    "                acc = accuracy(predictions, target)\n",
    "            elif activation == 'softmax':\n",
    "                acc = get_accuracy_softmax(predictions, target)\n",
    "            \n",
    "            # backpropagation\n",
    "            loss.backward()\n",
    "            optimizer.step()\n",
    "            \n",
    "            # appending the loss and accuracy from batch\n",
    "            epoch_loss += loss.item()\n",
    "            epoch_acc += acc\n",
    "        \n",
    "        # testing model on validation set\n",
    "        with torch.no_grad():\n",
    "            \n",
    "            # loop over all batches\n",
    "            for feature_valid, target_valid in valid_loader:\n",
    "                \n",
    "                # place input on gpu\n",
    "                feature_valid = feature_valid.to(device)\n",
    "                \n",
    "                # convert to long tensor if multiclass classification problem\n",
    "                if activation == 'softmax':\n",
    "                    target_valid = target_valid.type(torch.LongTensor)\n",
    "                    \n",
    "                # place target on gpu\n",
    "                target_valid = target_valid.to(device)\n",
    "                \n",
    "                # get predictions\n",
    "                predictions_valid = model(feature_valid)\n",
    "                \n",
    "                # apply output activation function\n",
    "                if activation == 'sigmoid':\n",
    "                    predictions_valid = torch.sigmoid(predictions_valid)\n",
    "                elif activation == 'softmax':\n",
    "                    predictions_valid = F.softmax(predictions_valid, dim = 1)\n",
    "\n",
    "                # get loss\n",
    "                loss = loss_fn(predictions_valid, target_valid) + alpha * model.l2_weight_penalty()\n",
    "                \n",
    "                # get accuracy\n",
    "                if activation == 'sigmoid':\n",
    "                    acc = accuracy(predictions_valid, target_valid)\n",
    "                elif activation == 'softmax':\n",
    "                    acc = get_accuracy_softmax(predictions_valid, target_valid)\n",
    "                \n",
    "                # append relevant quantities every batch\n",
    "                valid_loss += loss.item()\n",
    "                valid_acc += acc\n",
    "                \n",
    "                if activation == 'sigmoid':\n",
    "                    r, p, f = f_measure(predictions_valid, target_valid)\n",
    "                    recall += r\n",
    "                    precision += p\n",
    "                    fscore += f\n",
    "                elif activation == 'softmax':\n",
    "                    r, p, f = f_measure_c(predictions_valid, target_valid)\n",
    "                    recall += r[1]\n",
    "                    precision += p[1]\n",
    "                    fscore += f[1]\n",
    "               \n",
    "        # get averages so that quantaties are mean per batch\n",
    "        epoch_loss /=  len(train_loader)\n",
    "        epoch_acc /=  len(train_loader)\n",
    "        \n",
    "        valid_loss /= len(valid_loader)\n",
    "        valid_acc /= len(valid_loader)\n",
    "        \n",
    "        recall /= len(valid_loader)\n",
    "        precision /= len(valid_loader)\n",
    "        fscore /= len(valid_loader)\n",
    "        \n",
    "        training_loss.append(epoch_loss)\n",
    "        training_acc.append(epoch_acc)\n",
    "\n",
    "        validation_loss.append(valid_loss)\n",
    "        validation_acc.append(valid_acc)\n",
    "        validation_recall.append(recall)\n",
    "        validation_precision.append(precision)\n",
    "        validation_f1.append(fscore)\n",
    "        \n",
    "        # print relevant information\n",
    "        print(f'| Epoch: {epoch:02}| Train Acc: {epoch_acc*100:.2f}% | Val. Acc: {valid_acc*100:.2f}% | Recall: {recall:.2f} | Precision: {precision:.2f} | f score: {fscore:.2f}')\n",
    "        \n",
    "        # implement early stopping\n",
    "        if len(validation_loss) > 3 and validation_loss[epoch - 1] > validation_loss[epoch - 4]:\n",
    "            break\n",
    "            \n",
    "    return training_loss, training_acc, validation_loss, validation_acc, validation_recall, validation_precision, validation_f1"
   ]
  },
  {
   "cell_type": "code",
   "execution_count": 30,
   "metadata": {},
   "outputs": [],
   "source": [
    "# The main model.\n",
    "\n",
    "class MyModel(nn.Module):\n",
    "    \n",
    "    def __init__(self, vocab_size, embedding_dim, out_channels):\n",
    "        \n",
    "        super(MyModel, self).__init__()\n",
    "        \n",
    "        # Both are for the gated recurrent unit\n",
    "        self.n_hidden = 5\n",
    "        self.input_size = 8\n",
    "        \n",
    "        self.embedding = nn.Embedding(vocab_size, embedding_dim)\n",
    "        \n",
    "        # convolution at three different scales: 1 gram, 3 gram and 5 gram\n",
    "        self.conv1 = nn.Conv2d(in_channels=1, out_channels=self.input_size, kernel_size=(1,embedding_dim))\n",
    "        self.conv3 = nn.Conv2d(in_channels=1, out_channels=self.input_size, kernel_size=(3,embedding_dim))\n",
    "        self.conv5 = nn.Conv2d(in_channels=1, out_channels=self.input_size, kernel_size=(5,embedding_dim))\n",
    "        \n",
    "        # gated recurrent units for all three scales\n",
    "        self.gru1 = nn.GRU(self.input_size, self.n_hidden)\n",
    "        self.gru3 = nn.GRU(self.input_size, self.n_hidden)\n",
    "        self.gru5 = nn.GRU(self.input_size, self.n_hidden)\n",
    "        \n",
    "        # pooling to downsample before fully connected layer\n",
    "        self.pool = nn.AvgPool1d(8, 8)\n",
    "\n",
    "        # fully connected layer to combine outputs from GRU's\n",
    "        self.fc = nn.Sequential(\n",
    "            nn.Linear(193, out_channels)\n",
    "            )\n",
    "        \n",
    "\n",
    "            \n",
    "    def forward(self, x):\n",
    "        batch_size, _ = x.shape\n",
    "        \n",
    "        # get embedding\n",
    "        embedded = self.embedding(x)\n",
    "                \n",
    "        #(batch size, max sent length, embedding dim)\n",
    "        #for the text we add 1 channel\n",
    "        embedded = embedded.unsqueeze(1)\n",
    "\n",
    "        #(batch size, 1, max sent length, embedding dim)\n",
    "        \n",
    "        \n",
    "        # first branch of the model\n",
    "\n",
    "        \n",
    "        f1 = self.conv1(embedded)\n",
    "        \n",
    "        #(batch size, out_channels, max sent length - window_size + 1, 1)\n",
    "        \n",
    "        f1 = f1.squeeze(3)\n",
    "        f1 = F.relu(f1)\n",
    "        #(batch size, out_channels, max sent length - window_size + 1)\n",
    "        \n",
    "        f1 = torch.transpose(torch.transpose(f1, 1, 2), 0, 1)\n",
    "        \n",
    "        #(max sent length - window_size + 1, batch size, out_channels)\n",
    "        \n",
    "        self.h1 = self.init_hidden(batch_size)\n",
    "        gru_out1, self.h1 = self.gru1(f1, self.h1)        \n",
    "        gru_out1 = torch.transpose(gru_out1, 0, 1)\n",
    "        gru_out1 = gru_out1.contiguous().view(gru_out1.shape[0], -1)\n",
    "\n",
    "        \n",
    "        # second branch of the model\n",
    "        \n",
    "        \n",
    "        f3 = self.conv3(embedded)\n",
    "        \n",
    "        #(batch size, out_channels, max sent length - window_size + 1, 1)\n",
    "        f3 = f3.squeeze(3)\n",
    "        f3 = F.relu(f3)\n",
    "        \n",
    "        #(batch size, out_channels, max sent length - window_size + 1)\n",
    "        f3 = torch.transpose(torch.transpose(f3, 1, 2), 0, 1)\n",
    "        \n",
    "        #(max sent length - window_size + 1, batch size, out_channels)\n",
    "        self.h3 = self.init_hidden(batch_size)\n",
    "        gru_out3, self.h3 = self.gru3(f3, self.h3)\n",
    "        gru_out3 = torch.transpose(gru_out3, 0, 1)\n",
    "        gru_out3 = gru_out3.contiguous().view(gru_out3.shape[0], -1)\n",
    "\n",
    "        \n",
    "        # third branch of the model\n",
    "        \n",
    "        f5 = self.conv5(embedded)\n",
    "        \n",
    "        #(batch size, out_channels, max sent length - window_size + 1, 1)\n",
    "        f5 = f5.squeeze(3)\n",
    "        f5 = F.relu(f5)\n",
    "        \n",
    "        #(batch size, out_channels, max sent length - window_size + 1)\n",
    "        f5 = torch.transpose(torch.transpose(f5, 1, 2), 0, 1)\n",
    "        \n",
    "        #(max sent length - window_size + 1, batch size, out_channels)\n",
    "        self.h5 = self.init_hidden(batch_size)\n",
    "        gru_out5, self.h5 = self.gru5(f5, self.h5)\n",
    "        gru_out5 = torch.transpose(gru_out5, 0, 1)\n",
    "        gru_out5 = gru_out5.contiguous().view(gru_out5.shape[0], -1)\n",
    "   \n",
    "\n",
    "        # combining the three branches\n",
    "    \n",
    "    \n",
    "        c = torch.cat((gru_out1, gru_out3), dim = 1)\n",
    "        c = torch.cat((c, gru_out5), dim = 1)\n",
    "        c = c.unsqueeze(1)\n",
    "        \n",
    "        # pooling\n",
    "        \n",
    "        c = self.pool(c)\n",
    "        c = c.squeeze(1)\n",
    "        \n",
    "        # getting the final prediction\n",
    "        \n",
    "        preds = self.fc(c)\n",
    "        \n",
    "        return preds.squeeze(-1)\n",
    "    \n",
    "    def l2_weight_penalty(self):\n",
    "        \"\"\"\n",
    "        Computes and returns the L2 weight penalty (i.e. \n",
    "        sum of squared values of all model parameters).\n",
    "        \"\"\"\n",
    "        l2 = 0.\n",
    "        for parameter in self.parameters():\n",
    "            l2 += (parameter*parameter).sum()\n",
    "        return l2\n",
    "    \n",
    "    def init_hidden(self, batch_size):\n",
    "        return Variable(torch.zeros((1,batch_size,self.n_hidden))).to('cuda')"
   ]
  },
  {
   "cell_type": "code",
   "execution_count": 32,
   "metadata": {},
   "outputs": [
    {
     "name": "stdout",
     "output_type": "stream",
     "text": [
      "| Epoch: 01| Train Acc: 54.39% | Val. Acc: 58.33% | Recall: 0.59 | Precision: 0.58 | f score: 0.58\n",
      "| Epoch: 02| Train Acc: 57.21% | Val. Acc: 58.47% | Recall: 0.59 | Precision: 0.58 | f score: 0.58\n",
      "| Epoch: 03| Train Acc: 59.74% | Val. Acc: 56.65% | Recall: 0.60 | Precision: 0.57 | f score: 0.56\n",
      "| Epoch: 04| Train Acc: 62.04% | Val. Acc: 62.17% | Recall: 0.62 | Precision: 0.62 | f score: 0.62\n",
      "| Epoch: 05| Train Acc: 64.39% | Val. Acc: 60.96% | Recall: 0.64 | Precision: 0.61 | f score: 0.60\n",
      "| Epoch: 06| Train Acc: 67.68% | Val. Acc: 61.48% | Recall: 0.63 | Precision: 0.61 | f score: 0.60\n",
      "| Epoch: 07| Train Acc: 70.44% | Val. Acc: 69.01% | Recall: 0.70 | Precision: 0.69 | f score: 0.69\n",
      "| Epoch: 08| Train Acc: 73.91% | Val. Acc: 67.30% | Recall: 0.68 | Precision: 0.67 | f score: 0.67\n",
      "| Epoch: 09| Train Acc: 77.99% | Val. Acc: 70.29% | Recall: 0.71 | Precision: 0.70 | f score: 0.70\n",
      "| Epoch: 10| Train Acc: 81.39% | Val. Acc: 73.14% | Recall: 0.81 | Precision: 0.73 | f score: 0.75\n",
      "| Epoch: 11| Train Acc: 85.18% | Val. Acc: 71.70% | Recall: 0.72 | Precision: 0.72 | f score: 0.72\n",
      "| Epoch: 12| Train Acc: 87.63% | Val. Acc: 69.97% | Recall: 0.70 | Precision: 0.70 | f score: 0.70\n",
      "| Epoch: 13| Train Acc: 90.36% | Val. Acc: 72.01% | Recall: 0.73 | Precision: 0.72 | f score: 0.72\n",
      "| Epoch: 14| Train Acc: 92.13% | Val. Acc: 69.25% | Recall: 0.69 | Precision: 0.69 | f score: 0.69\n",
      "| Epoch: 15| Train Acc: 92.26% | Val. Acc: 73.72% | Recall: 0.76 | Precision: 0.74 | f score: 0.74\n",
      "| Epoch: 16| Train Acc: 94.02% | Val. Acc: 72.42% | Recall: 0.73 | Precision: 0.72 | f score: 0.73\n",
      "| Epoch: 17| Train Acc: 94.88% | Val. Acc: 70.96% | Recall: 0.71 | Precision: 0.71 | f score: 0.71\n",
      "| Epoch: 18| Train Acc: 94.14% | Val. Acc: 70.93% | Recall: 0.71 | Precision: 0.71 | f score: 0.71\n",
      "| Epoch: 19| Train Acc: 95.19% | Val. Acc: 72.69% | Recall: 0.74 | Precision: 0.73 | f score: 0.73\n",
      "| Epoch: 20| Train Acc: 96.33% | Val. Acc: 72.93% | Recall: 0.74 | Precision: 0.73 | f score: 0.73\n",
      "| Epoch: 21| Train Acc: 96.06% | Val. Acc: 69.78% | Recall: 0.70 | Precision: 0.70 | f score: 0.69\n",
      "| Epoch: 22| Train Acc: 96.30% | Val. Acc: 67.51% | Recall: 0.69 | Precision: 0.68 | f score: 0.67\n",
      "| Epoch: 23| Train Acc: 95.98% | Val. Acc: 72.73% | Recall: 0.73 | Precision: 0.73 | f score: 0.73\n",
      "| Epoch: 24| Train Acc: 96.88% | Val. Acc: 74.36% | Recall: 0.79 | Precision: 0.74 | f score: 0.76\n"
     ]
    }
   ],
   "source": [
    "# Trainig the main model on task A\n",
    "vocab_size = len(word2idx)\n",
    "embedding_dim = 50\n",
    "out_dim = 1\n",
    "output_channels = 64\n",
    "\n",
    "# Setting the device\n",
    "device = torch.device('cuda:0' if torch.cuda.is_available() else 'cpu')\n",
    "\n",
    "# random seed\n",
    "torch.manual_seed(2)\n",
    "\n",
    "#creating a model and initializing weights\n",
    "model_a  = MyModel(vocab_size, embedding_dim,1)\n",
    "model_a.apply(init_weights)\n",
    "model_a = model_a.to(device)\n",
    "\n",
    "# creating an optimizer and loss function\n",
    "optimizer = optim.Adam(model_a.parameters(), lr=1e-3)\n",
    "loss_fn = nn.BCELoss()\n",
    "\n",
    "# training the model\n",
    "training_loss, training_acc, validation_loss, validation_acc, validation_recall, validation_precision, validation_f1 = train_model(model_a,\n",
    "                                                                                                        train_loader_a,\n",
    "                                                                                                        val_loader_a,\n",
    "                                                                                                        alpha = 1e-3,\n",
    "                                                                                                        activation = 'sigmoid',\n",
    "                                                                                                        epochs = 24)"
   ]
  },
  {
   "cell_type": "code",
   "execution_count": 33,
   "metadata": {},
   "outputs": [
    {
     "data": {
      "image/png": "[encoded data removed]",
      "text/plain": [
       "<Figure size 432x288 with 1 Axes>"
      ]
     },
     "metadata": {
      "needs_background": "light"
     },
     "output_type": "display_data"
    },
    {
     "data": {
      "image/png": "[encoded data removed]",
      "text/plain": [
       "<Figure size 432x288 with 1 Axes>"
      ]
     },
     "metadata": {
      "needs_background": "light"
     },
     "output_type": "display_data"
    },
    {
     "data": {
      "image/png": "[encoded data removed]",
      "text/plain": [
       "<Figure size 432x288 with 1 Axes>"
      ]
     },
     "metadata": {
      "needs_background": "light"
     },
     "output_type": "display_data"
    }
   ],
   "source": [
    "plt.figure('Training and validation loss')\n",
    "plt.title('Training and validation loss')\n",
    "plt.plot([i for i in range(1, len(training_loss) + 1)], training_loss, label = 'Training loss')\n",
    "plt.plot([i for i in range(1, len(validation_loss) + 1)], validation_loss, label = 'Validation loss')\n",
    "plt.grid()\n",
    "plt.legend()\n",
    "\n",
    "plt.figure('Training and validation accuracy')\n",
    "plt.title('Training and validation accuracy')\n",
    "plt.plot([i for i in range(1, len(training_acc) + 1)], training_acc, label = 'Training loss')\n",
    "plt.plot([i for i in range(1, len(validation_acc) + 1)], validation_acc, label = 'Validation loss')\n",
    "plt.grid()\n",
    "plt.legend()\n",
    "\n",
    "plt.figure('Recall, precision and F1 score on validation set')\n",
    "plt.title('Recall, precision and F1 score on validation set')\n",
    "plt.plot([i for i in range(1, len(validation_recall) + 1)], validation_recall, label = 'Recall')\n",
    "plt.plot([i for i in range(1, len(validation_precision) + 1)], validation_precision, label = 'Precision')\n",
    "plt.plot([i for i in range(1, len(validation_f1) + 1)], validation_f1, label = 'F1 score')\n",
    "plt.grid()\n",
    "plt.legend()\n",
    "plt.show()"
   ]
  },
  {
   "cell_type": "code",
   "execution_count": 34,
   "metadata": {},
   "outputs": [
    {
     "name": "stdout",
     "output_type": "stream",
     "text": [
      "| Epoch: 01| Train Acc: 57.30% | Val. Acc: 59.34% | Recall: 0.60 | Precision: 0.59 | f score: 0.53\n",
      "| Epoch: 02| Train Acc: 60.49% | Val. Acc: 64.62% | Recall: 0.63 | Precision: 0.65 | f score: 0.59\n",
      "| Epoch: 03| Train Acc: 61.61% | Val. Acc: 62.39% | Recall: 0.60 | Precision: 0.62 | f score: 0.56\n",
      "| Epoch: 04| Train Acc: 62.88% | Val. Acc: 66.00% | Recall: 0.61 | Precision: 0.66 | f score: 0.61\n",
      "| Epoch: 05| Train Acc: 68.11% | Val. Acc: 64.14% | Recall: 0.59 | Precision: 0.64 | f score: 0.58\n",
      "| Epoch: 06| Train Acc: 74.70% | Val. Acc: 68.60% | Recall: 0.64 | Precision: 0.69 | f score: 0.64\n",
      "| Epoch: 07| Train Acc: 81.06% | Val. Acc: 73.25% | Recall: 0.70 | Precision: 0.73 | f score: 0.70\n",
      "| Epoch: 08| Train Acc: 86.24% | Val. Acc: 72.95% | Recall: 0.68 | Precision: 0.73 | f score: 0.70\n",
      "| Epoch: 09| Train Acc: 90.05% | Val. Acc: 72.58% | Recall: 0.69 | Precision: 0.73 | f score: 0.69\n",
      "| Epoch: 10| Train Acc: 93.16% | Val. Acc: 77.12% | Recall: 0.75 | Precision: 0.77 | f score: 0.76\n",
      "| Epoch: 11| Train Acc: 95.18% | Val. Acc: 79.72% | Recall: 0.81 | Precision: 0.80 | f score: 0.80\n",
      "| Epoch: 12| Train Acc: 96.56% | Val. Acc: 79.13% | Recall: 0.80 | Precision: 0.79 | f score: 0.79\n",
      "| Epoch: 13| Train Acc: 97.39% | Val. Acc: 77.98% | Recall: 0.77 | Precision: 0.78 | f score: 0.77\n",
      "| Epoch: 14| Train Acc: 98.18% | Val. Acc: 80.39% | Recall: 0.82 | Precision: 0.80 | f score: 0.81\n",
      "| Epoch: 15| Train Acc: 98.52% | Val. Acc: 81.36% | Recall: 0.84 | Precision: 0.81 | f score: 0.82\n",
      "| Epoch: 16| Train Acc: 98.84% | Val. Acc: 81.06% | Recall: 0.83 | Precision: 0.81 | f score: 0.82\n",
      "| Epoch: 17| Train Acc: 99.20% | Val. Acc: 82.81% | Recall: 0.87 | Precision: 0.83 | f score: 0.85\n",
      "| Epoch: 18| Train Acc: 99.30% | Val. Acc: 82.11% | Recall: 0.86 | Precision: 0.82 | f score: 0.84\n",
      "| Epoch: 19| Train Acc: 99.51% | Val. Acc: 82.40% | Recall: 0.86 | Precision: 0.82 | f score: 0.84\n",
      "| Epoch: 20| Train Acc: 99.62% | Val. Acc: 81.14% | Recall: 0.84 | Precision: 0.81 | f score: 0.82\n",
      "| Epoch: 21| Train Acc: 99.71% | Val. Acc: 83.78% | Recall: 0.89 | Precision: 0.84 | f score: 0.86\n"
     ]
    }
   ],
   "source": [
    "#Training the main model on task B\n",
    "\n",
    "vocab_size = len(word2idx)\n",
    "embedding_dim = 50\n",
    "out_dim = 1\n",
    "output_channels = 64\n",
    "\n",
    "# Setting the device\n",
    "device = torch.device('cuda:0' if torch.cuda.is_available() else 'cpu')\n",
    "\n",
    "# random seed\n",
    "torch.manual_seed(42)\n",
    "\n",
    "# creating the model\n",
    "model_b  = MyModel(vocab_size, embedding_dim, 1) \n",
    "model_b.apply(init_weights)\n",
    "model_b = model_b.to(device)\n",
    "\n",
    "# creating optimizer and loss function\n",
    "optimizer = optim.Adam(model_b.parameters(), lr=5e-4)\n",
    "loss_fn = nn.BCELoss()\n",
    "\n",
    "# training the model\n",
    "training_loss, training_acc, validation_loss, validation_acc, validation_recall, validation_precision, validation_f1 = train_model(\n",
    "                                                                                                        model_b,\n",
    "                                                                                                        train_loader_b,\n",
    "                                                                                                        val_loader_b,\n",
    "                                                                                                        activation = 'sigmoid',\n",
    "                                                                                                        alpha = 1e-5,\n",
    "                                                                                                        epochs = 21)"
   ]
  },
  {
   "cell_type": "code",
   "execution_count": 35,
   "metadata": {},
   "outputs": [
    {
     "data": {
      "image/png": "[encoded data removed]",
      "text/plain": [
       "<Figure size 432x288 with 1 Axes>"
      ]
     },
     "metadata": {
      "needs_background": "light"
     },
     "output_type": "display_data"
    },
    {
     "data": {
      "image/png": "[encoded data removed]",
      "text/plain": [
       "<Figure size 432x288 with 1 Axes>"
      ]
     },
     "metadata": {
      "needs_background": "light"
     },
     "output_type": "display_data"
    },
    {
     "data": {
      "image/png": "[encoded data removed]",
      "text/plain": [
       "<Figure size 432x288 with 1 Axes>"
      ]
     },
     "metadata": {
      "needs_background": "light"
     },
     "output_type": "display_data"
    }
   ],
   "source": [
    "plt.figure('Training and validation loss')\n",
    "plt.title('Training and validation loss')\n",
    "plt.plot([i for i in range(1, len(training_loss) + 1)], training_loss, label = 'Training loss')\n",
    "plt.plot([i for i in range(1, len(validation_loss) + 1)], validation_loss, label = 'Validation loss')\n",
    "plt.grid()\n",
    "plt.legend()\n",
    "\n",
    "plt.figure('Training and validation accuracy')\n",
    "plt.title('Training and validation accuracy')\n",
    "plt.plot([i for i in range(1, len(training_acc) + 1)], training_acc, label = 'Training loss')\n",
    "plt.plot([i for i in range(1, len(validation_acc) + 1)], validation_acc, label = 'Validation loss')\n",
    "plt.grid()\n",
    "plt.legend()\n",
    "\n",
    "plt.figure('Recall, precision and F1 score on validation set')\n",
    "plt.title('Recall, precision and F1 score on validation set')\n",
    "plt.plot([i for i in range(1, len(validation_recall) + 1)], validation_recall, label = 'Recall')\n",
    "plt.plot([i for i in range(1, len(validation_precision) + 1)], validation_precision, label = 'Precision')\n",
    "plt.plot([i for i in range(1, len(validation_f1) + 1)], validation_f1, label = 'F1 score')\n",
    "plt.grid()\n",
    "plt.legend()\n",
    "plt.show()"
   ]
  },
  {
   "cell_type": "code",
   "execution_count": 36,
   "metadata": {
    "scrolled": true
   },
   "outputs": [
    {
     "name": "stderr",
     "output_type": "stream",
     "text": [
      "C:\\Users\\kamil\\Anaconda3\\envs\\pytorch\\lib\\site-packages\\sklearn\\metrics\\classification.py:1143: UndefinedMetricWarning: Precision and F-score are ill-defined and being set to 0.0 in labels with no predicted samples.\n",
      "  'precision', 'predicted', average, warn_for)\n"
     ]
    },
    {
     "name": "stdout",
     "output_type": "stream",
     "text": [
      "| Epoch: 01| Train Acc: 38.75% | Val. Acc: 27.16% | Recall: 0.24 | Precision: 0.75 | f score: 0.36\n",
      "| Epoch: 02| Train Acc: 42.12% | Val. Acc: 54.57% | Recall: 0.61 | Precision: 0.76 | f score: 0.67\n",
      "| Epoch: 03| Train Acc: 50.57% | Val. Acc: 56.61% | Recall: 0.66 | Precision: 0.79 | f score: 0.71\n",
      "| Epoch: 04| Train Acc: 59.22% | Val. Acc: 56.01% | Recall: 0.64 | Precision: 0.83 | f score: 0.72\n",
      "| Epoch: 05| Train Acc: 66.14% | Val. Acc: 54.69% | Recall: 0.59 | Precision: 0.84 | f score: 0.69\n",
      "| Epoch: 06| Train Acc: 73.40% | Val. Acc: 57.45% | Recall: 0.61 | Precision: 0.81 | f score: 0.70\n",
      "| Epoch: 07| Train Acc: 79.92% | Val. Acc: 61.90% | Recall: 0.68 | Precision: 0.82 | f score: 0.74\n"
     ]
    },
    {
     "name": "stderr",
     "output_type": "stream",
     "text": [
      "C:\\Users\\kamil\\Anaconda3\\envs\\pytorch\\lib\\site-packages\\sklearn\\metrics\\classification.py:1145: UndefinedMetricWarning: Recall and F-score are ill-defined and being set to 0.0 in labels with no true samples.\n",
      "  'recall', 'true', average, warn_for)\n"
     ]
    },
    {
     "name": "stdout",
     "output_type": "stream",
     "text": [
      "| Epoch: 08| Train Acc: 83.08% | Val. Acc: 61.42% | Recall: 0.71 | Precision: 0.78 | f score: 0.74\n",
      "| Epoch: 09| Train Acc: 85.01% | Val. Acc: 61.30% | Recall: 0.70 | Precision: 0.81 | f score: 0.74\n",
      "| Epoch: 10| Train Acc: 86.19% | Val. Acc: 61.42% | Recall: 0.69 | Precision: 0.78 | f score: 0.73\n",
      "| Epoch: 11| Train Acc: 87.31% | Val. Acc: 61.90% | Recall: 0.72 | Precision: 0.79 | f score: 0.75\n",
      "| Epoch: 12| Train Acc: 88.25% | Val. Acc: 63.58% | Recall: 0.72 | Precision: 0.79 | f score: 0.75\n",
      "| Epoch: 13| Train Acc: 88.28% | Val. Acc: 62.74% | Recall: 0.72 | Precision: 0.80 | f score: 0.76\n",
      "| Epoch: 14| Train Acc: 89.22% | Val. Acc: 62.86% | Recall: 0.73 | Precision: 0.77 | f score: 0.75\n",
      "| Epoch: 15| Train Acc: 88.46% | Val. Acc: 63.10% | Recall: 0.71 | Precision: 0.79 | f score: 0.75\n",
      "| Epoch: 16| Train Acc: 89.50% | Val. Acc: 62.98% | Recall: 0.75 | Precision: 0.78 | f score: 0.76\n",
      "| Epoch: 17| Train Acc: 89.40% | Val. Acc: 60.94% | Recall: 0.69 | Precision: 0.80 | f score: 0.74\n",
      "| Epoch: 18| Train Acc: 89.52% | Val. Acc: 62.98% | Recall: 0.71 | Precision: 0.78 | f score: 0.74\n",
      "| Epoch: 19| Train Acc: 89.72% | Val. Acc: 61.42% | Recall: 0.70 | Precision: 0.80 | f score: 0.74\n",
      "| Epoch: 20| Train Acc: 87.35% | Val. Acc: 62.02% | Recall: 0.70 | Precision: 0.80 | f score: 0.74\n",
      "| Epoch: 21| Train Acc: 89.26% | Val. Acc: 58.17% | Recall: 0.65 | Precision: 0.78 | f score: 0.70\n",
      "| Epoch: 22| Train Acc: 90.10% | Val. Acc: 62.26% | Recall: 0.72 | Precision: 0.74 | f score: 0.73\n",
      "| Epoch: 23| Train Acc: 90.83% | Val. Acc: 62.14% | Recall: 0.76 | Precision: 0.76 | f score: 0.75\n",
      "| Epoch: 24| Train Acc: 90.84% | Val. Acc: 65.14% | Recall: 0.75 | Precision: 0.79 | f score: 0.76\n",
      "| Epoch: 25| Train Acc: 88.42% | Val. Acc: 64.42% | Recall: 0.75 | Precision: 0.77 | f score: 0.76\n",
      "| Epoch: 26| Train Acc: 90.87% | Val. Acc: 66.95% | Recall: 0.78 | Precision: 0.79 | f score: 0.78\n"
     ]
    }
   ],
   "source": [
    "#Training model on task C\n",
    "vocab_size = len(word2idx)\n",
    "embedding_dim = 100\n",
    "out_dim = 1\n",
    "output_channels = 64\n",
    "\n",
    "# Setting the device\n",
    "device = torch.device('cuda:0' if torch.cuda.is_available() else 'cpu')\n",
    "\n",
    "# random seed\n",
    "torch.manual_seed(42)\n",
    "\n",
    "# creating the model\n",
    "model_c  = MyModel(vocab_size, embedding_dim, 3) \n",
    "model_c.apply(init_weights)\n",
    "model_c = model_c.to(device)\n",
    "\n",
    "# creating the optimizer and loss function\n",
    "optimizer = optim.Adam(model_c.parameters(), lr=8e-4)\n",
    "loss_fn = nn.CrossEntropyLoss()\n",
    "\n",
    "# Training the model\n",
    "training_loss, training_acc, validation_loss, validation_acc, validation_recall, validation_precision, validation_f1 = train_model(model_c,\n",
    "                                                                                                        train_loader_c,\n",
    "                                                                                                        val_loader_c,\n",
    "                                                                                                        activation = 'softmax',\n",
    "                                                                                                        alpha = 1e-3,\n",
    "                                                                                                        epochs = 26)"
   ]
  },
  {
   "cell_type": "code",
   "execution_count": 37,
   "metadata": {},
   "outputs": [
    {
     "data": {
      "image/png": "[encoded data removed]",
      "text/plain": [
       "<Figure size 432x288 with 1 Axes>"
      ]
     },
     "metadata": {
      "needs_background": "light"
     },
     "output_type": "display_data"
    },
    {
     "data": {
      "image/png": "[encoded data removed]",
      "text/plain": [
       "<Figure size 432x288 with 1 Axes>"
      ]
     },
     "metadata": {
      "needs_background": "light"
     },
     "output_type": "display_data"
    },
    {
     "data": {
      "image/png": "[encoded data removed]",
      "text/plain": [
       "<Figure size 432x288 with 1 Axes>"
      ]
     },
     "metadata": {
      "needs_background": "light"
     },
     "output_type": "display_data"
    }
   ],
   "source": [
    "plt.figure('Training and validation loss')\n",
    "plt.title('Training and validation loss')\n",
    "plt.plot([i for i in range(1, len(training_loss) + 1)], training_loss, label = 'Training loss')\n",
    "plt.plot([i for i in range(1, len(validation_loss) + 1)], validation_loss, label = 'Validation loss')\n",
    "plt.grid()\n",
    "plt.legend()\n",
    "\n",
    "plt.figure('Training and validation accuracy')\n",
    "plt.title('Training and validation accuracy')\n",
    "plt.plot([i for i in range(1, len(training_acc) + 1)], training_acc, label = 'Training loss')\n",
    "plt.plot([i for i in range(1, len(validation_acc) + 1)], validation_acc, label = 'Validation loss')\n",
    "plt.grid()\n",
    "plt.legend()\n",
    "\n",
    "plt.figure('Recall, precision and F1 score on validation set')\n",
    "plt.title('Recall, precision and F1 score on validation set')\n",
    "plt.plot([i for i in range(1, len(validation_recall) + 1)], validation_recall, label = 'Recall')\n",
    "plt.plot([i for i in range(1, len(validation_precision) + 1)], validation_precision, label = 'Precision')\n",
    "plt.plot([i for i in range(1, len(validation_f1) + 1)], validation_f1, label = 'F1 score')\n",
    "plt.grid()\n",
    "plt.legend()\n",
    "plt.show()"
   ]
  },
  {
   "cell_type": "markdown",
   "metadata": {},
   "source": [
    "# Getting challenge predictions"
   ]
  },
  {
   "cell_type": "code",
   "execution_count": 61,
   "metadata": {},
   "outputs": [],
   "source": [
    "# For test set for submission\n",
    "def getEvaTensor(test_data, word2idx, max_len):\n",
    "    place_hold = torch.empty((1,1))\n",
    "    tokenized_corpus = get_tokenized_corpus(test_data)\n",
    "    test_sent_tensor, _ = get_model_inputs(tokenized_corpus, word2idx, place_hold, max_len)\n",
    "    \n",
    "    return test_sent_tensor"
   ]
  },
  {
   "cell_type": "code",
   "execution_count": 62,
   "metadata": {},
   "outputs": [
    {
     "name": "stdout",
     "output_type": "stream",
     "text": [
      "eva_data_a shape:  torch.Size([860, 105])\n",
      "eva_data_b shape:  torch.Size([240, 105])\n",
      "eva_data_c shape:  torch.Size([213, 105])\n",
      "eva id a shape:  (860,)\n",
      "eva id b shape:  (240,)\n",
      "eva id c shape:  (213,)\n"
     ]
    }
   ],
   "source": [
    "# For test set for submission\n",
    "eva_data_a = getEvaTensor(np.array(pd.read_csv('dataset/testset-taska.tsv', sep=\"\\t\", header=0).astype(str))[:, 1], word2idx, max_len)\n",
    "eva_data_b = getEvaTensor(np.array(pd.read_csv('dataset/testset-taskb.tsv', sep=\"\\t\", header=0).astype(str))[:, 1], word2idx, max_len)\n",
    "eva_data_c = getEvaTensor(np.array(pd.read_csv('dataset/test_set_taskc.tsv', sep=\"\\t\", header=0).astype(str))[:, 1], word2idx, max_len)\n",
    "\n",
    "eva_id_a = np.array(pd.read_csv('dataset/testset-taska.tsv', sep=\"\\t\", header=0).astype(str))[:, 0]\n",
    "eva_id_b = np.array(pd.read_csv('dataset/testset-taskb.tsv', sep=\"\\t\", header=0).astype(str))[:, 0]\n",
    "eva_id_c = np.array(pd.read_csv('dataset/test_set_taskc.tsv', sep=\"\\t\", header=0).astype(str))[:, 0]\n",
    "\n",
    "print('eva_data_a shape: ', eva_data_a.shape)\n",
    "print('eva_data_b shape: ', eva_data_b.shape)\n",
    "print('eva_data_c shape: ', eva_data_c.shape)\n",
    "\n",
    "print('eva id a shape: ', eva_id_a.shape)\n",
    "print('eva id b shape: ', eva_id_b.shape)\n",
    "print('eva id c shape: ', eva_id_c.shape)"
   ]
  },
  {
   "cell_type": "code",
   "execution_count": 63,
   "metadata": {},
   "outputs": [],
   "source": [
    "# Get predictions of test data for submission\n",
    "predictions_eva_a = []\n",
    "predictions_eva_b = []\n",
    "predictions_eva_c = []\n",
    "\n",
    "model_a.eval()\n",
    "model_b.eval()\n",
    "model_c.eval()\n",
    "\n",
    "with torch.no_grad():\n",
    "    \n",
    "    feature_eva_a = eva_data_a.to('cuda')\n",
    "    predictions_eva_a.append(model_a(feature_eva_a))\n",
    "    \n",
    "    feature_eva_b = eva_data_b.to('cuda')\n",
    "    predictions_eva_b.append(model_b(feature_eva_b))\n",
    "    \n",
    "    feature_eva_c = eva_data_c.to('cuda')\n",
    "    predictions_eva_c.append(model_c(feature_eva_c))"
   ]
  },
  {
   "cell_type": "code",
   "execution_count": 64,
   "metadata": {},
   "outputs": [],
   "source": [
    "predict_results_a = predictions_eva_a[0].cpu().numpy().flatten()\n",
    "predict_results_b = predictions_eva_b[0].cpu().numpy().flatten()\n",
    "predict_results_c = predictions_eva_c[0].cpu().numpy()"
   ]
  },
  {
   "cell_type": "code",
   "execution_count": 65,
   "metadata": {},
   "outputs": [],
   "source": [
    "# Assign labels and write csv\n",
    "predict_label_a = np.empty(len(predict_results_a), dtype = object)\n",
    "\n",
    "predict_label_a[predict_results_a < 0.5] = \"NOT\"\n",
    "predict_label_a[predict_results_a >= 0.5] = \"OFF\"\n",
    "\n",
    "df_a = pd.DataFrame({'Id':eva_id_a, 'Label':predict_label_a})\n",
    "df_a.to_csv('task_a_results.csv', index=False, header = False)\n",
    "\n",
    "predict_label_b = np.empty(len(predict_results_b), dtype = object)\n",
    "\n",
    "predict_label_b[predict_results_b < 0.5] = \"TIN\"\n",
    "predict_label_b[predict_results_b >= 0.5] = \"UNT\"\n",
    "\n",
    "df_b = pd.DataFrame({'Id':eva_id_b, 'Label':predict_label_b})\n",
    "df_b.to_csv('task_b_results.csv', index=False, header = False)\n"
   ]
  },
  {
   "cell_type": "code",
   "execution_count": 66,
   "metadata": {},
   "outputs": [],
   "source": [
    "predict_label_c = np.empty(len(predict_results_c), dtype = object)\n",
    "\n",
    "predict_label_c[np.argmax(predict_results_c, axis = 1) == 0] = \"GRP\"\n",
    "predict_label_c[np.argmax(predict_results_c, axis = 1) == 1] = \"IND\"\n",
    "predict_label_c[np.argmax(predict_results_c, axis = 1) == 2] = \"OTH\"\n",
    "\n",
    "df_c = pd.DataFrame({'Id':eva_id_c, 'Label':predict_label_c})\n",
    "df_c.to_csv('task_c_results.csv', index=False, header = False)\n"
   ]
  },
  {
   "cell_type": "markdown",
   "metadata": {},
   "source": [
    "# Experimental designs"
   ]
  },
  {
   "cell_type": "code",
   "execution_count": 19,
   "metadata": {},
   "outputs": [],
   "source": [
    "# Initial network model. Did not perform as well. convolutional with fully connected layer\n",
    "class Network(nn.Module):\n",
    "    def __init__(self, vocab_size, embedding_dim, output_channels):\n",
    "        super(Network, self).__init__()\n",
    "\n",
    "        \n",
    "        self.embedding = nn.Embedding(vocab_size, embedding_dim)\n",
    "        \n",
    "        # 2 gram\n",
    "        self.conv1 = nn.Sequential(\n",
    "            nn.Conv2d(1, output_channels, kernel_size=(2,embedding_dim)),\n",
    "            nn.BatchNorm2d(output_channels),\n",
    "            nn.ReLU(True),\n",
    "            nn.Conv2d(output_channels, 1, kernel_size = 1),\n",
    "            nn.BatchNorm2d(1),\n",
    "            nn.ReLU(True))\n",
    "        \n",
    "        \n",
    "        # 3 gram\n",
    "        self.conv2 = nn.Sequential(\n",
    "            nn.Conv2d(1, output_channels, kernel_size=(3,embedding_dim)),\n",
    "            nn.BatchNorm2d(output_channels),\n",
    "            nn.ReLU(True),\n",
    "            nn.Conv2d(output_channels, 1, kernel_size = 1),\n",
    "            nn.BatchNorm2d(1),\n",
    "            nn.ReLU(True))\n",
    "        \n",
    "        # 5 gram\n",
    "        self.conv3 = nn.Sequential(\n",
    "            nn.Conv2d(1, output_channels, kernel_size=(5,embedding_dim)),\n",
    "            nn.BatchNorm2d(output_channels),\n",
    "            nn.ReLU(True),\n",
    "            nn.Conv2d(output_channels, 1, kernel_size = 1),\n",
    "            nn.BatchNorm2d(1),\n",
    "            nn.ReLU(True))\n",
    "        \n",
    "\n",
    "        self.fc = nn.Sequential(\n",
    "            nn.Linear(308, 100),\n",
    "            nn.BatchNorm1d(100),\n",
    "            nn.ReLU(True),\n",
    "            nn.Linear(100, 1),\n",
    "            nn.Sigmoid()\n",
    "            )\n",
    "        \n",
    "        \n",
    "    def forward(self, x):\n",
    "        embedded = self.embedding(x)\n",
    "        embedded = embedded.unsqueeze(1)\n",
    "            \n",
    "        self.gram2 = self.conv1(embedded)\n",
    "        # Removing unwanted dimensions\n",
    "        self.gram2 = self.gram2.squeeze(1)\n",
    "        self.gram2 = self.gram2.squeeze(-1)\n",
    "        \n",
    "        self.gram3 = self.conv2(embedded)\n",
    "        # Removing unwanted dimensions\n",
    "        self.gram3 = self.gram3.squeeze(1)\n",
    "        self.gram3 = self.gram3.squeeze(-1)\n",
    "        \n",
    "        self.gram5 = self.conv3(embedded)\n",
    "        # Removing unwanted dimensions\n",
    "        self.gram5 = self.gram5.squeeze(1)\n",
    "        self.gram5 = self.gram5.squeeze(-1)\n",
    "        \n",
    "        inputs = torch.cat((self.gram2, self.gram3), dim = 1)\n",
    "        inputs = torch.cat((inputs, self.gram5), dim = 1)\n",
    "            \n",
    "        output = self.fc(inputs)\n",
    "        return output.squeeze(-1)\n"
   ]
  },
  {
   "cell_type": "code",
   "execution_count": 20,
   "metadata": {},
   "outputs": [],
   "source": [
    "# Fully convolutional model. Did not perform as well.\n",
    "\n",
    "class CNN(nn.Module):\n",
    "    def __init__(self, vocab_size, embedding_dim, output_channels):\n",
    "        super(CNN, self).__init__()\n",
    "\n",
    "        \n",
    "        self.embedding = nn.Embedding(vocab_size, embedding_dim)\n",
    "        \n",
    "        # 2 gram\n",
    "        self.conv1 = nn.Sequential(\n",
    "            nn.Conv2d(1, output_channels, kernel_size=(2,embedding_dim)),\n",
    "            nn.BatchNorm2d(output_channels),\n",
    "            nn.ReLU(True),\n",
    "            nn.Conv2d(output_channels, output_channels, kernel_size=(3,1)),\n",
    "            nn.BatchNorm2d(output_channels),\n",
    "            nn.ReLU(True),\n",
    "            nn.Conv2d(output_channels, output_channels, kernel_size=(5,1)),\n",
    "            nn.BatchNorm2d(output_channels),\n",
    "            nn.ReLU(True),\n",
    "            nn.Conv2d(output_channels, output_channels, kernel_size=(3,1), stride = 2),\n",
    "            nn.BatchNorm2d(output_channels),\n",
    "            nn.ReLU(True),\n",
    "            nn.Conv2d(output_channels, output_channels, kernel_size=(3,1), stride = 2),\n",
    "            nn.BatchNorm2d(output_channels),\n",
    "            nn.ReLU(True),\n",
    "            nn.Conv2d(output_channels, output_channels, kernel_size=(3,1), stride = 2),\n",
    "            nn.BatchNorm2d(output_channels),\n",
    "            nn.ReLU(True),\n",
    "            nn.Conv2d(output_channels, output_channels, kernel_size=(3,1), stride = 2),\n",
    "            nn.BatchNorm2d(output_channels),\n",
    "            nn.ReLU(True),\n",
    "            nn.Conv2d(output_channels, output_channels, kernel_size=(3,1), stride = 2),\n",
    "            nn.BatchNorm2d(output_channels),\n",
    "            nn.ReLU(True),\n",
    "            nn.Conv2d(output_channels, 1, kernel_size=(2,1)),\n",
    "            nn.Sigmoid()\n",
    "            )\n",
    "        \n",
    "    def forward(self, x):\n",
    "        embedded = self.embedding(x)\n",
    "        embedded = embedded.unsqueeze(1)\n",
    "        \n",
    "        conv1 = self.conv1(embedded)\n",
    "        conv1 = conv1.squeeze(-1)\n",
    "        conv1 = conv1.squeeze(-1)\n",
    "        conv1 = conv1.squeeze(-1)\n",
    "        \n",
    "        return conv1\n"
   ]
  }
 ],
 "metadata": {
  "kernelspec": {
   "display_name": "Python 3",
   "language": "python",
   "name": "python3"
  },
  "language_info": {
   "codemirror_mode": {
    "name": "ipython",
    "version": 3
   },
   "file_extension": ".py",
   "mimetype": "text/x-python",
   "name": "python",
   "nbconvert_exporter": "python",
   "pygments_lexer": "ipython3",
   "version": "3.7.1"
  }
 },
 "nbformat": 4,
 "nbformat_minor": 2
}
