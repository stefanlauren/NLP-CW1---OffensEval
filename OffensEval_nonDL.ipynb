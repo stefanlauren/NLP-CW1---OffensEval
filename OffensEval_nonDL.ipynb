{
 "cells": [
  {
   "cell_type": "code",
   "execution_count": 1,
   "metadata": {},
   "outputs": [],
   "source": [
    "import pandas as pd\n",
    "import numpy as np\n",
    "import random\n",
    "import re\n",
    "from sklearn.model_selection import train_test_split\n",
    "from imblearn.over_sampling import RandomOverSampler\n",
    "from sklearn.base import TransformerMixin\n",
    "from sklearn.preprocessing import scale\n",
    "\n",
    "SEED = 42\n",
    "np.random.seed(SEED)\n",
    "random.seed(SEED)"
   ]
  },
  {
   "cell_type": "markdown",
   "metadata": {},
   "source": [
    "### Data Collection"
   ]
  },
  {
   "cell_type": "code",
   "execution_count": 2,
   "metadata": {},
   "outputs": [
    {
     "data": {
      "text/html": [
       "<div>\n",
       "<style scoped>\n",
       "    .dataframe tbody tr th:only-of-type {\n",
       "        vertical-align: middle;\n",
       "    }\n",
       "\n",
       "    .dataframe tbody tr th {\n",
       "        vertical-align: top;\n",
       "    }\n",
       "\n",
       "    .dataframe thead th {\n",
       "        text-align: right;\n",
       "    }\n",
       "</style>\n",
       "<table border=\"1\" class=\"dataframe\">\n",
       "  <thead>\n",
       "    <tr style=\"text-align: right;\">\n",
       "      <th></th>\n",
       "      <th>id</th>\n",
       "      <th>tweet</th>\n",
       "      <th>subtask_a</th>\n",
       "      <th>subtask_b</th>\n",
       "      <th>subtask_c</th>\n",
       "    </tr>\n",
       "  </thead>\n",
       "  <tbody>\n",
       "    <tr>\n",
       "      <th>0</th>\n",
       "      <td>86426</td>\n",
       "      <td>@USER She should ask a few native Americans wh...</td>\n",
       "      <td>OFF</td>\n",
       "      <td>UNT</td>\n",
       "      <td>NaN</td>\n",
       "    </tr>\n",
       "    <tr>\n",
       "      <th>1</th>\n",
       "      <td>90194</td>\n",
       "      <td>@USER @USER Go home you’re drunk!!! @USER #MAG...</td>\n",
       "      <td>OFF</td>\n",
       "      <td>TIN</td>\n",
       "      <td>IND</td>\n",
       "    </tr>\n",
       "    <tr>\n",
       "      <th>2</th>\n",
       "      <td>16820</td>\n",
       "      <td>Amazon is investigating Chinese employees who ...</td>\n",
       "      <td>NOT</td>\n",
       "      <td>NaN</td>\n",
       "      <td>NaN</td>\n",
       "    </tr>\n",
       "    <tr>\n",
       "      <th>3</th>\n",
       "      <td>62688</td>\n",
       "      <td>@USER Someone should'veTaken\" this piece of sh...</td>\n",
       "      <td>OFF</td>\n",
       "      <td>UNT</td>\n",
       "      <td>NaN</td>\n",
       "    </tr>\n",
       "    <tr>\n",
       "      <th>4</th>\n",
       "      <td>43605</td>\n",
       "      <td>@USER @USER Obama wanted liberals &amp;amp; illega...</td>\n",
       "      <td>NOT</td>\n",
       "      <td>NaN</td>\n",
       "      <td>NaN</td>\n",
       "    </tr>\n",
       "  </tbody>\n",
       "</table>\n",
       "</div>"
      ],
      "text/plain": [
       "      id                                              tweet subtask_a  \\\n",
       "0  86426  @USER She should ask a few native Americans wh...       OFF   \n",
       "1  90194  @USER @USER Go home you’re drunk!!! @USER #MAG...       OFF   \n",
       "2  16820  Amazon is investigating Chinese employees who ...       NOT   \n",
       "3  62688  @USER Someone should'veTaken\" this piece of sh...       OFF   \n",
       "4  43605  @USER @USER Obama wanted liberals &amp; illega...       NOT   \n",
       "\n",
       "  subtask_b subtask_c  \n",
       "0       UNT       NaN  \n",
       "1       TIN       IND  \n",
       "2       NaN       NaN  \n",
       "3       UNT       NaN  \n",
       "4       NaN       NaN  "
      ]
     },
     "execution_count": 2,
     "metadata": {},
     "output_type": "execute_result"
    }
   ],
   "source": [
    "train_data = pd.read_csv('dataset/offenseval-training-v1.tsv', sep=\"\\t\", header=0)\n",
    "train_data.head()"
   ]
  },
  {
   "cell_type": "code",
   "execution_count": 3,
   "metadata": {},
   "outputs": [
    {
     "name": "stdout",
     "output_type": "stream",
     "text": [
      "test_data_a shape:  (860, 2)\n",
      "test_data_b shape:  (240, 2)\n",
      "test_data_c shape:  (213, 2)\n"
     ]
    }
   ],
   "source": [
    "test_data_a = pd.read_csv('dataset/testset-taska.tsv', sep=\"\\t\", header=0).astype(str)\n",
    "test_data_b = pd.read_csv('dataset/testset-taskb.tsv', sep=\"\\t\", header=0).astype(str)\n",
    "test_data_c = pd.read_csv('dataset/test_set_taskc.tsv', sep=\"\\t\", header=0).astype(str)\n",
    "\n",
    "print('test_data_a shape: ', test_data_a.shape)\n",
    "print('test_data_b shape: ', test_data_b.shape)\n",
    "print('test_data_c shape: ', test_data_c.shape)"
   ]
  },
  {
   "cell_type": "markdown",
   "metadata": {},
   "source": [
    "### Data Exploration"
   ]
  },
  {
   "cell_type": "code",
   "execution_count": 5,
   "metadata": {},
   "outputs": [
    {
     "name": "stdout",
     "output_type": "stream",
     "text": [
      "train_sents_a shape:  (13240,)\n",
      "train_label_a shape:  (13240,)\n",
      "train_sents_b shape:  (7752,)\n",
      "train_label_b shape:  (7752,)\n",
      "train_sents_c shape:  (7221,)\n",
      "train_label_c shape:  (7221,)\n"
     ]
    }
   ],
   "source": [
    "#Load dataset\n",
    "train_data = train_data.values\n",
    "train_sents_a = np.array(train_data[:,1].astype(str))\n",
    "\n",
    "# Integer labeling\n",
    "# NOT : 0, OFF : 1\n",
    "_, train_label_a = np.unique(train_data[:,2].astype(str), return_inverse=True)\n",
    "#TIN : 0, UNT : 1, nan: 2\n",
    "_, train_label_b = np.unique(train_data[:,3].astype(str), return_inverse=True)\n",
    "#GRP: 0, IND : 1, OTH: 2, nan: 3\n",
    "_, train_label_c = np.unique(train_data[:,4].astype(str), return_inverse=True)\n",
    "\n",
    "#TIN : 0, UNT : 1\n",
    "train_sents_b = np.delete(train_sents_a, np.nonzero(train_label_b == 2), axis=0)\n",
    "train_label_b = np.delete(train_label_b, np.nonzero(train_label_b == 2), axis=0)\n",
    "\n",
    "#GRP: 0, IND : 1, OTH: 2\n",
    "train_sents_c = np.delete(train_sents_a, np.nonzero(train_label_c == 3), axis=0)\n",
    "train_label_c = np.delete(train_label_c, np.nonzero(train_label_c == 3), axis=0)\n",
    "\n",
    "rus = RandomOverSampler(random_state=0)\n",
    "train_sents_b, train_label_b = rus.fit_resample(train_sents_b.reshape(-1, 1), train_label_b)\n",
    "train_sents_c, train_label_c = rus.fit_resample(train_sents_c.reshape(-1, 1), train_label_c)\n",
    "\n",
    "train_sents_b = train_sents_b.reshape(-1, )\n",
    "train_sents_c = train_sents_c.reshape(-1, )\n",
    "\n",
    "print('train_sents_a shape: ', train_sents_a.shape)\n",
    "print('train_label_a shape: ', train_label_a.shape)\n",
    "print('train_sents_b shape: ', train_sents_b.shape)\n",
    "print('train_label_b shape: ', train_label_b.shape)\n",
    "print('train_sents_c shape: ', train_sents_c.shape)\n",
    "print('train_label_c shape: ', train_label_c.shape)"
   ]
  },
  {
   "cell_type": "markdown",
   "metadata": {},
   "source": [
    "### Word Embedding"
   ]
  },
  {
   "cell_type": "code",
   "execution_count": 6,
   "metadata": {},
   "outputs": [],
   "source": [
    "#!wget http://nlp.stanford.edu/data/glove.twitter.27B.zip\n",
    "#!unzip glove.twitter.27B.zip"
   ]
  },
  {
   "cell_type": "code",
   "execution_count": 7,
   "metadata": {},
   "outputs": [],
   "source": [
    "class MeanEmbeddingTransformer(TransformerMixin):\n",
    "    def __init__(self):\n",
    "        self._E = self._load_words()\n",
    "          \n",
    "    def _load_words(self):\n",
    "        E = {}\n",
    "\n",
    "        with open('glove.twitter.27B.100d.txt', 'r', encoding=\"utf8\") as file:\n",
    "            for i, line in enumerate(file):\n",
    "                l = line.split(' ')\n",
    "                if l[0].isalpha():\n",
    "                    v = [float(i) for i in l[1:]]\n",
    "                    E[l[0]] = np.array(v)\n",
    "        return E            \n",
    "    \n",
    "    def _doc_mean(self, doc):\n",
    "        return np.mean(np.array([self._E[w.lower().strip()] for w in doc if w.lower().strip() in self._E]), axis=0)\n",
    "    \n",
    "    def fit(self, X, y=None):\n",
    "        return self\n",
    "    \n",
    "    def transform(self, X):\n",
    "        return np.array([self._doc_mean(doc) for doc in X])\n",
    "    \n",
    "    def fit_transform(self, X, y=None):\n",
    "        return self.fit(X).transform(X)"
   ]
  },
  {
   "cell_type": "code",
   "execution_count": 8,
   "metadata": {},
   "outputs": [],
   "source": [
    "def get_tokenized_corpus(corpus):\n",
    "    tokenized_corpus = [] # Let us put the tokenized corpus in a list\n",
    "    for sentence in corpus:\n",
    "        sentence = re.sub(r'([A-Z])', lambda pat: pat.group(1).lower(), sentence)\n",
    "        sentence = re.findall(r'\\w+', sentence)\n",
    "        tokenized_corpus.append(sentence)\n",
    " \n",
    "    return tokenized_corpus"
   ]
  },
  {
   "cell_type": "code",
   "execution_count": 9,
   "metadata": {},
   "outputs": [],
   "source": [
    "met = MeanEmbeddingTransformer()"
   ]
  },
  {
   "cell_type": "code",
   "execution_count": 10,
   "metadata": {},
   "outputs": [],
   "source": [
    "tokenized_a = get_tokenized_corpus(train_sents_a)\n",
    "tweets_transformed_a = met.fit_transform(tokenized_a)\n",
    "tweets_transformed_a = scale(tweets_transformed_a)"
   ]
  },
  {
   "cell_type": "code",
   "execution_count": 11,
   "metadata": {},
   "outputs": [],
   "source": [
    "tokenized_b = get_tokenized_corpus(train_sents_b)\n",
    "tweets_transformed_b = met.fit_transform(tokenized_b)\n",
    "tweets_transformed_b = scale(tweets_transformed_b)"
   ]
  },
  {
   "cell_type": "code",
   "execution_count": 12,
   "metadata": {},
   "outputs": [],
   "source": [
    "tokenized_c = get_tokenized_corpus(train_sents_c)\n",
    "tweets_transformed_c = met.fit_transform(tokenized_c)\n",
    "tweets_transformed_c = scale(tweets_transformed_c)"
   ]
  },
  {
   "cell_type": "markdown",
   "metadata": {},
   "source": [
    "### Modelling & Validation"
   ]
  },
  {
   "cell_type": "code",
   "execution_count": 13,
   "metadata": {},
   "outputs": [],
   "source": [
    "import matplotlib.pyplot as plt\n",
    "\n",
    "from sklearn.svm import SVC\n",
    "from sklearn.svm import LinearSVC\n",
    "from sklearn.neural_network import MLPClassifier\n",
    "from sklearn.neighbors import KNeighborsClassifier\n",
    "from sklearn.tree import DecisionTreeClassifier\n",
    "from sklearn.ensemble import RandomForestClassifier\n",
    "from sklearn import model_selection\n",
    "from sklearn.model_selection import GridSearchCV\n",
    "\n",
    "import warnings\n",
    "warnings.filterwarnings('ignore')"
   ]
  },
  {
   "cell_type": "code",
   "execution_count": 14,
   "metadata": {},
   "outputs": [],
   "source": [
    "# Here we try on using non-deep learning approach and compare several classifiers to find the best one.\n",
    "\n",
    "def train_and_compare(X, Y):\n",
    "    # choose algorithms to be compared\n",
    "    models = []\n",
    "    models.append(('RF', RandomForestClassifier()))\n",
    "    models.append(('SVC', SVC()))\n",
    "    models.append(('LinSVC', LinearSVC()))\n",
    "    models.append(('MLP', MLPClassifier()))\n",
    "    models.append(('DT', DecisionTreeClassifier()))\n",
    "    models.append(('KN', KNeighborsClassifier()))\n",
    "\n",
    "    # evaluate the models \n",
    "    f1results = []\n",
    "    accuracyresults = []\n",
    "    names = []\n",
    "    for name, model in models:\n",
    "        kfold = model_selection.KFold(n_splits=10, random_state=10)\n",
    "        f1score = model_selection.cross_val_score(model, X, Y, cv=kfold, scoring='f1_macro')\n",
    "        accuracy = model_selection.cross_val_score(model, X, Y, cv=kfold, scoring='accuracy')\n",
    "        f1results.append(f1score)\n",
    "        accuracyresults.append(accuracy)\n",
    "        names.append(name)\n",
    "        print('%s: f1= %f (+/-%f), accuracy= %f (+/-%f)' % (name, f1score.mean(), f1score.std(), accuracy.mean(), accuracy.std()))\n",
    "        \n",
    "    return f1results, accuracyresults, names"
   ]
  },
  {
   "cell_type": "markdown",
   "metadata": {},
   "source": [
    "#### Sub-Task A"
   ]
  },
  {
   "cell_type": "code",
   "execution_count": 15,
   "metadata": {},
   "outputs": [],
   "source": [
    "#data and label\n",
    "X_a = tweets_transformed_a\n",
    "Y_a = train_label_a"
   ]
  },
  {
   "cell_type": "code",
   "execution_count": 14,
   "metadata": {},
   "outputs": [
    {
     "name": "stdout",
     "output_type": "stream",
     "text": [
      "RF: f1= 0.593030 (+/-0.015977), accuracy= 0.699169 (+/-0.010184)\n",
      "SVC: f1= 0.702395 (+/-0.015683), accuracy= 0.764350 (+/-0.009836)\n",
      "LinSVC: f1= 0.673956 (+/-0.012180), accuracy= 0.747810 (+/-0.009412)\n",
      "MLP: f1= 0.662122 (+/-0.014622), accuracy= 0.703097 (+/-0.012325)\n",
      "DT: f1= 0.591561 (+/-0.013900), accuracy= 0.631042 (+/-0.013278)\n",
      "KN: f1= 0.616874 (+/-0.011488), accuracy= 0.671828 (+/-0.012845)\n"
     ]
    }
   ],
   "source": [
    "f1results_a, accuracyresults_a, names_a = train_and_compare(X_a,Y_a)"
   ]
  },
  {
   "cell_type": "code",
   "execution_count": 27,
   "metadata": {},
   "outputs": [
    {
     "data": {
      "image/png": "[encoded data removed]",
      "text/plain": [
       "<Figure size 432x288 with 1 Axes>"
      ]
     },
     "metadata": {
      "needs_background": "light"
     },
     "output_type": "display_data"
    }
   ],
   "source": [
    "fig = plt.figure()\n",
    "plt.title('Sub-Task A: Algorithm F1 Macro Score Comparison')\n",
    "ax = fig.add_subplot(111)\n",
    "plt.boxplot(f1results_a)\n",
    "ax.set_xticklabels(names_a)\n",
    "plt.show()"
   ]
  },
  {
   "cell_type": "code",
   "execution_count": 28,
   "metadata": {},
   "outputs": [
    {
     "data": {
      "image/png": "[encoded data removed]",
      "text/plain": [
       "<Figure size 432x288 with 1 Axes>"
      ]
     },
     "metadata": {
      "needs_background": "light"
     },
     "output_type": "display_data"
    }
   ],
   "source": [
    "fig = plt.figure()\n",
    "plt.title('Sub-Task A: Algorithm Accuracy Comparison')\n",
    "ax = fig.add_subplot(111)\n",
    "plt.boxplot(accuracyresults_a)\n",
    "ax.set_xticklabels(names_a)\n",
    "plt.show()"
   ]
  },
  {
   "cell_type": "markdown",
   "metadata": {},
   "source": [
    "SVC clearly outperforms the other classification algorithms with f1 score 0.702395 and accuracy 0.764350. Therefore, we will use this algorithm on the test data. "
   ]
  },
  {
   "cell_type": "markdown",
   "metadata": {},
   "source": [
    "#### Sub-Task B"
   ]
  },
  {
   "cell_type": "code",
   "execution_count": 15,
   "metadata": {},
   "outputs": [],
   "source": [
    "#data and label\n",
    "X_b = tweets_transformed_b\n",
    "Y_b = train_label_b"
   ]
  },
  {
   "cell_type": "code",
   "execution_count": 30,
   "metadata": {},
   "outputs": [
    {
     "name": "stdout",
     "output_type": "stream",
     "text": [
      "RF: f1= 0.925324 (+/-0.144016), accuracy= 0.989295 (+/-0.009119)\n",
      "SVC: f1= 0.656192 (+/-0.162982), accuracy= 0.864811 (+/-0.010764)\n",
      "LinSVC: f1= 0.471686 (+/-0.104243), accuracy= 0.602937 (+/-0.051548)\n",
      "MLP: f1= 0.868015 (+/-0.140447), accuracy= 0.952409 (+/-0.040201)\n",
      "DT: f1= 0.889720 (+/-0.099698), accuracy= 0.931519 (+/-0.059291)\n",
      "KN: f1= 0.633952 (+/-0.123394), accuracy= 0.875149 (+/-0.085155)\n"
     ]
    }
   ],
   "source": [
    "f1results_b, accuracyresults_b, names_b = train_and_compare(X_b,Y_b)"
   ]
  },
  {
   "cell_type": "code",
   "execution_count": 31,
   "metadata": {},
   "outputs": [
    {
     "data": {
      "image/png": "[encoded data removed]",
      "text/plain": [
       "<Figure size 432x288 with 1 Axes>"
      ]
     },
     "metadata": {
      "needs_background": "light"
     },
     "output_type": "display_data"
    }
   ],
   "source": [
    "fig = plt.figure()\n",
    "plt.title('Sub-Task B: Algorithm F1 Macro Score Comparison')\n",
    "ax = fig.add_subplot(111)\n",
    "plt.boxplot(f1results_b)\n",
    "ax.set_xticklabels(names_b)\n",
    "plt.show()"
   ]
  },
  {
   "cell_type": "code",
   "execution_count": 32,
   "metadata": {},
   "outputs": [
    {
     "data": {
      "image/png": "[encoded data removed]",
      "text/plain": [
       "<Figure size 432x288 with 1 Axes>"
      ]
     },
     "metadata": {
      "needs_background": "light"
     },
     "output_type": "display_data"
    }
   ],
   "source": [
    "fig = plt.figure()\n",
    "plt.title('Sub-Task B: Algorithm Accuracy Comparison')\n",
    "ax = fig.add_subplot(111)\n",
    "plt.boxplot(accuracyresults_b)\n",
    "ax.set_xticklabels(names_b)\n",
    "plt.show()"
   ]
  },
  {
   "cell_type": "markdown",
   "metadata": {},
   "source": [
    "For Sub-Task B, Random Forest Classifier, Decision Tree Classifier, and MLP Classifier give very good performances. This is especially true for Random Forest Classifier which has the f1 score of 0.925324 and accuracy of 0.989295."
   ]
  },
  {
   "cell_type": "code",
   "execution_count": 48,
   "metadata": {},
   "outputs": [
    {
     "data": {
      "text/plain": [
       "GridSearchCV(cv=3, error_score='raise-deprecating',\n",
       "       estimator=RandomForestClassifier(bootstrap=True, class_weight=None, criterion='gini',\n",
       "            max_depth=None, max_features='auto', max_leaf_nodes=None,\n",
       "            min_impurity_decrease=0.0, min_impurity_split=None,\n",
       "            min_samples_leaf=1, min_samples_split=2,\n",
       "            min_weight_fraction_leaf=0.0, n_estimators='warn', n_jobs=None,\n",
       "            oob_score=False, random_state=10, verbose=0, warm_start=False),\n",
       "       fit_params=None, iid='warn', n_jobs=None,\n",
       "       param_grid={'n_estimators': range(10, 100, 10)},\n",
       "       pre_dispatch='2*n_jobs', refit=True, return_train_score=True,\n",
       "       scoring=None, verbose=0)"
      ]
     },
     "execution_count": 48,
     "metadata": {},
     "output_type": "execute_result"
    }
   ],
   "source": [
    "search_params = {\n",
    "    \"n_estimators\": range(10,100,10)\n",
    "}\n",
    "rf_grid = GridSearchCV(RandomForestClassifier(random_state=10), search_params, cv=3, return_train_score=True)\n",
    "rf_grid.fit(X_b, Y_b)"
   ]
  },
  {
   "cell_type": "code",
   "execution_count": 49,
   "metadata": {},
   "outputs": [
    {
     "name": "stdout",
     "output_type": "stream",
     "text": [
      "The best parameter is  {'n_estimators': 90}\n"
     ]
    }
   ],
   "source": [
    "print('The best parameter is ',rf_grid.best_params_)"
   ]
  },
  {
   "cell_type": "markdown",
   "metadata": {},
   "source": [
    "#### Sub-Task C"
   ]
  },
  {
   "cell_type": "code",
   "execution_count": 28,
   "metadata": {},
   "outputs": [],
   "source": [
    "#data and label\n",
    "X_c = tweets_transformed_c\n",
    "Y_c = train_label_c"
   ]
  },
  {
   "cell_type": "code",
   "execution_count": 33,
   "metadata": {},
   "outputs": [
    {
     "name": "stdout",
     "output_type": "stream",
     "text": [
      "RF: f1= 0.806990 (+/-0.166361), accuracy= 0.897945 (+/-0.087870)\n",
      "SVC: f1= 0.577676 (+/-0.196170), accuracy= 0.779116 (+/-0.022145)\n",
      "LinSVC: f1= 0.390351 (+/-0.160490), accuracy= 0.500190 (+/-0.130312)\n",
      "MLP: f1= 0.878634 (+/-0.100524), accuracy= 0.892409 (+/-0.092876)\n",
      "DT: f1= 0.797432 (+/-0.152056), accuracy= 0.860835 (+/-0.121742)\n",
      "KN: f1= 0.486542 (+/-0.121309), accuracy= 0.699367 (+/-0.131324)\n"
     ]
    }
   ],
   "source": [
    "f1results_c, accuracyresults_c, names_c = train_and_compare(X_c,Y_c)"
   ]
  },
  {
   "cell_type": "code",
   "execution_count": 34,
   "metadata": {},
   "outputs": [
    {
     "data": {
      "image/png": "[encoded data removed]",
      "text/plain": [
       "<Figure size 432x288 with 1 Axes>"
      ]
     },
     "metadata": {
      "needs_background": "light"
     },
     "output_type": "display_data"
    }
   ],
   "source": [
    "fig = plt.figure()\n",
    "plt.title('Sub-Task C: Algorithm F1 Macro Score Comparison')\n",
    "ax = fig.add_subplot(111)\n",
    "plt.boxplot(f1results_c)\n",
    "ax.set_xticklabels(names_c)\n",
    "plt.show()"
   ]
  },
  {
   "cell_type": "code",
   "execution_count": 35,
   "metadata": {},
   "outputs": [
    {
     "data": {
      "image/png": "[encoded data removed]",
      "text/plain": [
       "<Figure size 432x288 with 1 Axes>"
      ]
     },
     "metadata": {
      "needs_background": "light"
     },
     "output_type": "display_data"
    }
   ],
   "source": [
    "fig = plt.figure()\n",
    "plt.title('Sub-Task C: Algorithm Accuracy Comparison')\n",
    "ax = fig.add_subplot(111)\n",
    "plt.boxplot(accuracyresults_c)\n",
    "ax.set_xticklabels(names_c)\n",
    "plt.show()"
   ]
  },
  {
   "cell_type": "markdown",
   "metadata": {},
   "source": [
    "Although Random Forest Classifier, MLP Classifier and Decision Tree Classifier have high accuracy, but looking at the f1 score, MLP Classifier outperforms the other algorithm with f1 score 0.878634 and accuracy 0.892409."
   ]
  },
  {
   "cell_type": "code",
   "execution_count": 52,
   "metadata": {},
   "outputs": [
    {
     "data": {
      "text/plain": [
       "GridSearchCV(cv=3, error_score='raise-deprecating',\n",
       "       estimator=MLPClassifier(activation='relu', alpha=0.0001, batch_size='auto', beta_1=0.9,\n",
       "       beta_2=0.999, early_stopping=False, epsilon=1e-08,\n",
       "       hidden_layer_sizes=(100,), learning_rate='constant',\n",
       "       learning_rate_init=0.001, max_iter=200, momentum=0.9,\n",
       "       n_iter_no_change=10, nesterovs_momentum=True, power_t=0.5,\n",
       "       random_state=10, shuffle=True, solver='adam', tol=0.0001,\n",
       "       validation_fraction=0.1, verbose=False, warm_start=False),\n",
       "       fit_params=None, iid='warn', n_jobs=None,\n",
       "       param_grid={'solver': array(['sgd', 'adam'], dtype='<U4'), 'activation': array(['relu', 'tanh'], dtype='<U4'), 'learning_rate_init': [0.0001, 0.0005, 0.001]},\n",
       "       pre_dispatch='2*n_jobs', refit=True, return_train_score=True,\n",
       "       scoring=None, verbose=0)"
      ]
     },
     "execution_count": 52,
     "metadata": {},
     "output_type": "execute_result"
    }
   ],
   "source": [
    "search_params = {\n",
    "    \"solver\": np.array(['sgd','adam']),\n",
    "    \"activation\": np.array(['relu','tanh']),\n",
    "    \"learning_rate_init\": [0.0001,0.0005,0.001]\n",
    "}\n",
    "rf_grid = GridSearchCV(MLPClassifier(random_state=10), search_params, cv=3, return_train_score=True)\n",
    "rf_grid.fit(X_c, Y_c)"
   ]
  },
  {
   "cell_type": "code",
   "execution_count": 53,
   "metadata": {},
   "outputs": [
    {
     "name": "stdout",
     "output_type": "stream",
     "text": [
      "The best parameter is  {'activation': 'tanh', 'learning_rate_init': 0.001, 'solver': 'adam'}\n"
     ]
    }
   ],
   "source": [
    "print('The best parameter is ',rf_grid.best_params_)"
   ]
  },
  {
   "cell_type": "markdown",
   "metadata": {},
   "source": [
    "### Predicting"
   ]
  },
  {
   "cell_type": "markdown",
   "metadata": {},
   "source": [
    "#### Sub-Task A"
   ]
  },
  {
   "cell_type": "code",
   "execution_count": 48,
   "metadata": {},
   "outputs": [],
   "source": [
    "tokenized_test_a = get_tokenized_corpus(test_data_a['tweet'])\n",
    "tweets_transformed_test_a = met.fit_transform(tokenized_test_a)\n",
    "tweets_transformed_test_a = scale(tweets_transformed_test_a)"
   ]
  },
  {
   "cell_type": "code",
   "execution_count": 50,
   "metadata": {},
   "outputs": [],
   "source": [
    "svc = SVC()\n",
    "svc.fit(X_a, Y_a)\n",
    "y_pred_a = svc.predict(tweets_transformed_test_a)"
   ]
  },
  {
   "cell_type": "code",
   "execution_count": 51,
   "metadata": {},
   "outputs": [],
   "source": [
    "test_data_a['label'] = y_pred_a\n",
    "test_data_a['label'][test_data_a['label']==0] = 'NOT'\n",
    "test_data_a['label'][test_data_a['label']==1] = 'OFF'"
   ]
  },
  {
   "cell_type": "code",
   "execution_count": 61,
   "metadata": {},
   "outputs": [],
   "source": [
    "test_data_a.drop(columns=['tweet']).to_csv('submission_a.csv', header=False, index=False)"
   ]
  },
  {
   "cell_type": "markdown",
   "metadata": {},
   "source": [
    "#### Sub-Task B"
   ]
  },
  {
   "cell_type": "code",
   "execution_count": 16,
   "metadata": {},
   "outputs": [],
   "source": [
    "tokenized_test_b = get_tokenized_corpus(test_data_b['tweet'])\n",
    "tweets_transformed_test_b = met.fit_transform(tokenized_test_b)\n",
    "tweets_transformed_test_b = scale(tweets_transformed_test_b)"
   ]
  },
  {
   "cell_type": "code",
   "execution_count": 30,
   "metadata": {},
   "outputs": [],
   "source": [
    "rf = RandomForestClassifier(n_estimators=90)\n",
    "rf.fit(X_b, Y_b)\n",
    "y_pred_b = rf.predict(tweets_transformed_test_b)"
   ]
  },
  {
   "cell_type": "code",
   "execution_count": 18,
   "metadata": {},
   "outputs": [],
   "source": [
    "test_data_b['label'] = y_pred_b\n",
    "test_data_b['label'][test_data_b['label']==0] = 'TIN'\n",
    "test_data_b['label'][test_data_b['label']==1] = 'UNT'"
   ]
  },
  {
   "cell_type": "code",
   "execution_count": 19,
   "metadata": {},
   "outputs": [],
   "source": [
    "test_data_b.drop(columns=['tweet']).to_csv('submission_b.csv', header=False, index=False)"
   ]
  },
  {
   "cell_type": "markdown",
   "metadata": {},
   "source": [
    "#### Sub-Task C"
   ]
  },
  {
   "cell_type": "code",
   "execution_count": 37,
   "metadata": {},
   "outputs": [],
   "source": [
    "tokenized_test_c = get_tokenized_corpus(test_data_c['tweet'])\n",
    "tweets_transformed_test_c = met.fit_transform(tokenized_test_c)\n",
    "tweets_transformed_test_c = scale(tweets_transformed_test_c)"
   ]
  },
  {
   "cell_type": "code",
   "execution_count": 38,
   "metadata": {},
   "outputs": [],
   "source": [
    "mlp = MLPClassifier(activation = 'tanh', learning_rate_init = 0.001, solver = 'adam')\n",
    "mlp.fit(X_c, Y_c)\n",
    "y_pred_c = mlp.predict(tweets_transformed_test_c)"
   ]
  },
  {
   "cell_type": "code",
   "execution_count": 39,
   "metadata": {},
   "outputs": [],
   "source": [
    "test_data_c['label'] = y_pred_c\n",
    "test_data_c['label'][test_data_c['label']==0] = 'GRP'\n",
    "test_data_c['label'][test_data_c['label']==1] = 'IND'\n",
    "test_data_c['label'][test_data_c['label']==2] = 'OTH'"
   ]
  },
  {
   "cell_type": "code",
   "execution_count": 40,
   "metadata": {},
   "outputs": [],
   "source": [
    "test_data_c.drop(columns=['tweet']).to_csv('submission_c.csv', header=False, index=False)"
   ]
  }
 ],
 "metadata": {
  "kernelspec": {
   "display_name": "Python 3",
   "language": "python",
   "name": "python3"
  },
  "language_info": {
   "codemirror_mode": {
    "name": "ipython",
    "version": 3
   },
   "file_extension": ".py",
   "mimetype": "text/x-python",
   "name": "python",
   "nbconvert_exporter": "python",
   "pygments_lexer": "ipython3",
   "version": "3.7.0"
  }
 },
 "nbformat": 4,
 "nbformat_minor": 2
}
